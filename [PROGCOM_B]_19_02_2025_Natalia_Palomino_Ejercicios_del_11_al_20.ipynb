{
  "nbformat": 4,
  "nbformat_minor": 0,
  "metadata": {
    "colab": {
      "provenance": []
    },
    "kernelspec": {
      "name": "python3",
      "display_name": "Python 3"
    },
    "language_info": {
      "name": "python"
    }
  },
  "cells": [
    {
      "cell_type": "markdown",
      "source": [
        "EJERCICIO 11: Escribe un programa que calcule el índice de masa corporal (IMC) y determine la categoría (bajo peso, normal, sobrepeso, obesidad). Al final, el programa debe imprimir: el nombre del usuario, su categoría y una breve descripción de lo que debe hacer de acuerdo a su categoría."
      ],
      "metadata": {
        "id": "KwI-jSOriEz5"
      }
    },
    {
      "cell_type": "code",
      "source": [
        "while True:\n",
        "    nombre = input(\"Ingresa tu nombre: \")\n",
        "    peso = float(input(\"Ingresa tu peso en kg: \"))\n",
        "    altura = float(input(\"Ingresa tu altura en metros: \"))\n",
        "\n",
        "    imc = peso / (altura ** 2)\n",
        "\n",
        "    if imc < 18.5:\n",
        "        categoria = \"Bajo peso\"\n",
        "        recomendacion = \"Debes aumentar tu ingesta calórica con una dieta equilibrada.\"\n",
        "    elif imc < 25:\n",
        "        categoria = \"Normal\"\n",
        "        recomendacion = \"Sigue con tu estilo de vida saludable.\"\n",
        "    elif imc < 30:\n",
        "        categoria = \"Sobrepeso\"\n",
        "        recomendacion = \"Es recomendable hacer más ejercicio y mejorar la alimentación.\"\n",
        "    else:\n",
        "        categoria = \"Obesidad\"\n",
        "        recomendacion = \"Consulta a un especialista para mejorar tu salud.\"\n",
        "\n",
        "    print(f\"\\n{nombre}, tu categoría es '{categoria}'. {recomendacion}\\n\")\n",
        "    break"
      ],
      "metadata": {
        "colab": {
          "base_uri": "https://localhost:8080/"
        },
        "id": "5mZ3iKtHh8wi",
        "outputId": "542c9a4c-4c24-4e8f-dced-ddc43b6706b4"
      },
      "execution_count": 17,
      "outputs": [
        {
          "output_type": "stream",
          "name": "stdout",
          "text": [
            "Ingresa tu nombre: Natalia\n",
            "Ingresa tu peso en kg: 60\n",
            "Ingresa tu altura en metros: 1.61\n",
            "\n",
            "Natalia, tu categoría es 'Normal'. Sigue con tu estilo de vida saludable.\n",
            "\n"
          ]
        }
      ]
    },
    {
      "cell_type": "code",
      "source": [
        "\n",
        "num_personas = int(input(\"¿Cuántas personas deseas evaluar? \"))\n",
        "for _ in range(num_personas):\n",
        "    nombre = input(\"\\nIngresa tu nombre: \")\n",
        "    peso = float(input(\"Ingresa tu peso en kg: \"))\n",
        "    altura = float(input(\"Ingresa tu altura en metros: \"))\n",
        "\n",
        "    imc = peso / (altura ** 2)\n",
        "\n",
        "    if imc < 18.5:\n",
        "        categoria = \"Bajo peso\"\n",
        "        recomendacion = \"Debes aumentar tu ingesta calórica con una dieta equilibrada.\"\n",
        "    elif imc < 25:\n",
        "        categoria = \"Normal\"\n",
        "        recomendacion = \"Sigue con tu estilo de vida saludable.\"\n",
        "    elif imc < 30:\n",
        "        categoria = \"Sobrepeso\"\n",
        "        recomendacion = \"Es recomendable hacer más ejercicio y mejorar la alimentación.\"\n",
        "    else:\n",
        "        categoria = \"Obesidad\"\n",
        "        recomendacion = \"Consulta a un especialista para mejorar tu salud.\"\n",
        "\n",
        "    print(f\"\\n{nombre}, tu categoría es '{categoria}'. {recomendacion}\")"
      ],
      "metadata": {
        "colab": {
          "base_uri": "https://localhost:8080/"
        },
        "id": "Bvd7sTs_i1vE",
        "outputId": "f0026e54-464b-40c7-c7dd-4dc1f1e4f3c1"
      },
      "execution_count": 19,
      "outputs": [
        {
          "output_type": "stream",
          "name": "stdout",
          "text": [
            "¿Cuántas personas deseas evaluar? 1\n",
            "\n",
            "Ingresa tu nombre: Camila\n",
            "Ingresa tu peso en kg: 23\n",
            "Ingresa tu altura en metros: 1.45\n",
            "\n",
            "Camila, tu categoría es 'Bajo peso'. Debes aumentar tu ingesta calórica con una dieta equilibrada.\n"
          ]
        }
      ]
    },
    {
      "cell_type": "markdown",
      "source": [
        "EJERCICIO 12: Desarrolla un programa que simule una calculadora simple (+, -, *, /) con dos números."
      ],
      "metadata": {
        "id": "WK_uOF4ekTeH"
      }
    },
    {
      "cell_type": "code",
      "source": [
        "while True:\n",
        "    num1 = float(input(\"Ingresa el primer número: \"))\n",
        "    num2 = float(input(\"Ingresa el segundo número: \"))\n",
        "    operador = input(\"Elige una operación (+, -, *, /): \")\n",
        "\n",
        "    if operador == '+':\n",
        "        resultado = num1 + num2\n",
        "    elif operador == '-':\n",
        "        resultado = num1 - num2\n",
        "    elif operador == '*':\n",
        "        resultado = num1 * num2\n",
        "    elif operador == '/':\n",
        "        if num2 != 0:\n",
        "            resultado = num1 / num2\n",
        "        else:\n",
        "            resultado = \"Error: División por cero\"\n",
        "    else:\n",
        "        resultado = \"Operador inválido\"\n",
        "\n",
        "    print(f\"Resultado: {resultado}\\n\")\n",
        "    break"
      ],
      "metadata": {
        "colab": {
          "base_uri": "https://localhost:8080/"
        },
        "id": "kJDUF3B_koE3",
        "outputId": "3cd17e65-6d82-4ccf-915b-0ef93d90756a"
      },
      "execution_count": 16,
      "outputs": [
        {
          "output_type": "stream",
          "name": "stdout",
          "text": [
            "Ingresa el primer número: 25\n",
            "Ingresa el segundo número: 48\n",
            "Elige una operación (+, -, *, /): +\n",
            "Resultado: 73.0\n",
            "\n"
          ]
        }
      ]
    },
    {
      "cell_type": "code",
      "source": [
        "for _ in range(3):  # Realiza 3 operaciones por defecto\n",
        "    num1 = float(input(\"\\nIngresa el primer número: \"))\n",
        "    num2 = float(input(\"Ingresa el segundo número: \"))\n",
        "    operador = input(\"Elige una operación (+, -, *, /): \")\n",
        "\n",
        "    if operador == '+':\n",
        "        resultado = num1 + num2\n",
        "    elif operador == '-':\n",
        "        resultado = num1 - num2\n",
        "    elif operador == '*':\n",
        "        resultado = num1 * num2\n",
        "    elif operador == '/':\n",
        "        if num2 != 0:\n",
        "            resultado = num1 / num2\n",
        "        else:\n",
        "            resultado = \"Error: División por cero\"\n",
        "    else:\n",
        "        resultado = \"Operador inválido\"\n",
        "\n",
        "    print(f\"Resultado: {resultado}\\n\")\n",
        "    break"
      ],
      "metadata": {
        "colab": {
          "base_uri": "https://localhost:8080/"
        },
        "id": "sCtHH4ASli0w",
        "outputId": "7ca7df7d-2aab-4a31-9008-d4b2329f8637"
      },
      "execution_count": 21,
      "outputs": [
        {
          "output_type": "stream",
          "name": "stdout",
          "text": [
            "\n",
            "Ingresa el primer número: 23\n",
            "Ingresa el segundo número: 45\n",
            "Elige una operación (+, -, *, /): /\n",
            "Resultado: 0.5111111111111111\n",
            "\n"
          ]
        }
      ]
    },
    {
      "cell_type": "markdown",
      "source": [
        "EJERCICIO 13: Crea un programa que determine la calificación en letras (A, B, C, D, F) según una nota numérica (0-100)."
      ],
      "metadata": {
        "id": "oT1Dg0NOmeum"
      }
    },
    {
      "cell_type": "code",
      "source": [
        "while True:\n",
        "    nota = int(input(\"Ingresa la nota (0-100): \"))\n",
        "\n",
        "    if 90 <= nota <= 100:\n",
        "        calificacion = \"A\"\n",
        "    elif 80 <= nota < 90:\n",
        "        calificacion = \"B\"\n",
        "    elif 70 <= nota < 80:\n",
        "        calificacion = \"C\"\n",
        "    elif 60 <= nota < 70:\n",
        "        calificacion = \"D\"\n",
        "    else:\n",
        "        calificacion = \"F\"\n",
        "\n",
        "    print(f\"Calificación en letra: {calificacion}\\n\")\n",
        "    break"
      ],
      "metadata": {
        "colab": {
          "base_uri": "https://localhost:8080/"
        },
        "id": "NfqYMzcnmnIr",
        "outputId": "8fe384da-aa9f-4cd0-b30c-9f63ec811eaa"
      },
      "execution_count": 23,
      "outputs": [
        {
          "output_type": "stream",
          "name": "stdout",
          "text": [
            "Ingresa la nota (0-100): 45\n",
            "Calificación en letra: F\n",
            "\n"
          ]
        }
      ]
    },
    {
      "cell_type": "code",
      "source": [
        "for _ in range(3):\n",
        "    nota = int(input(\"\\nIngresa la nota (0-100): \"))\n",
        "\n",
        "    if 90 <= nota <= 100:\n",
        "        calificacion = \"A\"\n",
        "    elif 80 <= nota < 90:\n",
        "        calificacion = \"B\"\n",
        "    elif 70 <= nota < 80:\n",
        "        calificacion = \"C\"\n",
        "    elif 60 <= nota < 70:\n",
        "        calificacion = \"D\"\n",
        "    else:\n",
        "        calificacion = \"F\"\n",
        "\n",
        "    print(f\"Calificación en letra: {calificacion}\\n\")\n",
        "    break"
      ],
      "metadata": {
        "colab": {
          "base_uri": "https://localhost:8080/"
        },
        "id": "E32_5DcEm3yj",
        "outputId": "67c65e97-ba9d-49b8-b1f9-d8351f31a476"
      },
      "execution_count": 25,
      "outputs": [
        {
          "output_type": "stream",
          "name": "stdout",
          "text": [
            "\n",
            "Ingresa la nota (0-100): 89\n",
            "Calificación en letra: B\n",
            "\n"
          ]
        }
      ]
    },
    {
      "cell_type": "markdown",
      "source": [
        "EJERCICIO 14: Escribe un programa que determine el día de la semana según un número (1-7)."
      ],
      "metadata": {
        "id": "QL3PQziCnIFu"
      }
    },
    {
      "cell_type": "code",
      "source": [
        "while True:\n",
        "    num = int(input(\"Ingresa un número (1-7): \"))\n",
        "\n",
        "    if num == 1:\n",
        "        dia = \"Lunes\"\n",
        "    elif num == 2:\n",
        "        dia = \"Martes\"\n",
        "    elif num == 3:\n",
        "        dia = \"Miércoles\"\n",
        "    elif num == 4:\n",
        "        dia = \"Jueves\"\n",
        "    elif num == 5:\n",
        "        dia = \"Viernes\"\n",
        "    elif num == 6:\n",
        "        dia = \"Sábado\"\n",
        "    elif num == 7:\n",
        "        dia = \"Domingo\"\n",
        "    else:\n",
        "        dia = \"Número inválido\"\n",
        "\n",
        "    print(f\"Día de la semana: {dia}\\n\")\n",
        "    break"
      ],
      "metadata": {
        "colab": {
          "base_uri": "https://localhost:8080/"
        },
        "id": "6HrmvN7LnS9S",
        "outputId": "39510f3c-300d-4af0-e38d-9e1af7bcac9d"
      },
      "execution_count": 26,
      "outputs": [
        {
          "output_type": "stream",
          "name": "stdout",
          "text": [
            "Ingresa un número (1-7): 3\n",
            "Día de la semana: Miércoles\n",
            "\n"
          ]
        }
      ]
    },
    {
      "cell_type": "code",
      "source": [
        "for _ in range(3):\n",
        "    num = int(input(\"\\nIngresa un número (1-7): \"))\n",
        "\n",
        "    if num == 1:\n",
        "        dia = \"Lunes\"\n",
        "    elif num == 2:\n",
        "        dia = \"Martes\"\n",
        "    elif num == 3:\n",
        "        dia = \"Miércoles\"\n",
        "    elif num == 4:\n",
        "        dia = \"Jueves\"\n",
        "    elif num == 5:\n",
        "        dia = \"Viernes\"\n",
        "    elif num == 6:\n",
        "        dia = \"Sábado\"\n",
        "    elif num == 7:\n",
        "        dia = \"Domingo\"\n",
        "    else:\n",
        "        dia = \"Número inválido\"\n",
        "\n",
        "    print(f\"Día de la semana: {dia}\\n\")\n",
        "    break"
      ],
      "metadata": {
        "colab": {
          "base_uri": "https://localhost:8080/"
        },
        "id": "mhHssE1nnY3C",
        "outputId": "4bfd1793-70e8-4559-814b-830b9499c331"
      },
      "execution_count": 29,
      "outputs": [
        {
          "output_type": "stream",
          "name": "stdout",
          "text": [
            "\n",
            "Ingresa un número (1-7): 4\n",
            "Día de la semana: Jueves\n",
            "\n"
          ]
        }
      ]
    },
    {
      "cell_type": "markdown",
      "source": [
        "EJERCICIO 15: Desarrolla un programa que valide si tres números pueden formar un triángulo y de qué tipo es."
      ],
      "metadata": {
        "id": "E48wFd89ntj6"
      }
    },
    {
      "cell_type": "code",
      "source": [
        "while True:\n",
        "    a = float(input(\"Ingresa el primer lado: \"))\n",
        "    b = float(input(\"Ingresa el segundo lado: \"))\n",
        "    c = float(input(\"Ingresa el tercer lado: \"))\n",
        "\n",
        "\n",
        "    if a + b > c and a + c > b and b + c > a:\n",
        "        if a == b == c:\n",
        "            tipo = \"Equilátero\"\n",
        "        elif a == b or a == c or b == c:\n",
        "            tipo = \"Isósceles\"\n",
        "        else:\n",
        "            tipo = \"Escaleno\"\n",
        "        print(f\"Los lados forman un triángulo {tipo}.\")\n",
        "    else:\n",
        "        print(\"Los lados no forman un triángulo.\")\n",
        "    break"
      ],
      "metadata": {
        "colab": {
          "base_uri": "https://localhost:8080/"
        },
        "id": "eQ7L39LUoEJ3",
        "outputId": "da546df6-b267-4cdb-bf7b-be4b43b57cf6"
      },
      "execution_count": 38,
      "outputs": [
        {
          "output_type": "stream",
          "name": "stdout",
          "text": [
            "Ingresa el primer lado: 23\n",
            "Ingresa el segundo lado: 34\n",
            "Ingresa el tercer lado: 23\n",
            "Los lados forman un triángulo Isósceles.\n"
          ]
        }
      ]
    },
    {
      "cell_type": "code",
      "source": [
        "for _ in range(3):  # Evalúa 3 conjuntos de números por defecto\n",
        "    a = float(input(\"\\nIngresa el primer lado: \"))\n",
        "    b = float(input(\"Ingresa el segundo lado: \"))\n",
        "    c = float(input(\"Ingresa el tercer lado: \"))\n",
        "\n",
        "    if a + b > c and a + c > b and b + c > a:\n",
        "        if a == b == c:\n",
        "            tipo = \"Equilátero\"\n",
        "        elif a == b or a == c or b == c:\n",
        "            tipo = \"Isósceles\"\n",
        "        else:\n",
        "            tipo = \"Escaleno\"\n",
        "        print(f\"Los lados forman un triángulo {tipo}.\")\n",
        "    else:\n",
        "        print(\"Los lados no forman un triángulo.\")\n",
        "    break"
      ],
      "metadata": {
        "colab": {
          "base_uri": "https://localhost:8080/"
        },
        "id": "5O_aFXaboEgJ",
        "outputId": "6485bea2-92fc-4e96-d275-fbdb49110eb7"
      },
      "execution_count": 36,
      "outputs": [
        {
          "output_type": "stream",
          "name": "stdout",
          "text": [
            "\n",
            "Ingresa el primer lado: 23\n",
            "Ingresa el segundo lado: 45\n",
            "Ingresa el tercer lado: 22\n",
            "Los lados no forman un triángulo.\n"
          ]
        }
      ]
    },
    {
      "cell_type": "markdown",
      "source": [
        "EJERCICIO 16: Crea un programa que muestre la tabla de multiplicar de un número hasta el 10."
      ],
      "metadata": {
        "id": "ZmeWNdBGouzS"
      }
    },
    {
      "cell_type": "code",
      "source": [
        "while True:\n",
        "    num = int(input(\"Ingresa un número para ver su tabla de multiplicar: \"))\n",
        "\n",
        "    i = 1\n",
        "    while i <= 10:\n",
        "        print(f\"{num} x {i} = {num * i}\")\n",
        "        i += 1\n",
        "\n",
        "\n",
        "    break"
      ],
      "metadata": {
        "colab": {
          "base_uri": "https://localhost:8080/"
        },
        "id": "bz_tqFR0oy8h",
        "outputId": "df837c23-4e95-4b9a-ab4d-d01317bc6bf4"
      },
      "execution_count": 41,
      "outputs": [
        {
          "output_type": "stream",
          "name": "stdout",
          "text": [
            "Ingresa un número para ver su tabla de multiplicar: 23\n",
            "23 x 1 = 23\n",
            "23 x 2 = 46\n",
            "23 x 3 = 69\n",
            "23 x 4 = 92\n",
            "23 x 5 = 115\n",
            "23 x 6 = 138\n",
            "23 x 7 = 161\n",
            "23 x 8 = 184\n",
            "23 x 9 = 207\n",
            "23 x 10 = 230\n"
          ]
        }
      ]
    },
    {
      "cell_type": "code",
      "source": [
        "num = int(input(\"Ingresa un número para ver su tabla de multiplicar: \"))\n",
        "\n",
        "for i in range(1, 11):\n",
        "    print(f\"{num} x {i} = {num * i}\")\n",
        ""
      ],
      "metadata": {
        "colab": {
          "base_uri": "https://localhost:8080/"
        },
        "id": "ecB2K6uwozIZ",
        "outputId": "478d1b3b-f79f-4e36-aa9a-8b6528bcb5b7"
      },
      "execution_count": 44,
      "outputs": [
        {
          "output_type": "stream",
          "name": "stdout",
          "text": [
            "Ingresa un número para ver su tabla de multiplicar: 22\n",
            "22 x 1 = 22\n",
            "22 x 2 = 44\n",
            "22 x 3 = 66\n",
            "22 x 4 = 88\n",
            "22 x 5 = 110\n",
            "22 x 6 = 132\n",
            "22 x 7 = 154\n",
            "22 x 8 = 176\n",
            "22 x 9 = 198\n",
            "22 x 10 = 220\n"
          ]
        }
      ]
    }
  ]
}