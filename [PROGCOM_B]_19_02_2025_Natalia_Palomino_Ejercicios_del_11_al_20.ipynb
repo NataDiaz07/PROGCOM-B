{
  "nbformat": 4,
  "nbformat_minor": 0,
  "metadata": {
    "colab": {
      "provenance": []
    },
    "kernelspec": {
      "name": "python3",
      "display_name": "Python 3"
    },
    "language_info": {
      "name": "python"
    }
  },
  "cells": [
    {
      "cell_type": "markdown",
      "source": [
        "EJERCICIO 11: Escribe un programa que calcule el índice de masa corporal (IMC) y determine la categoría (bajo peso, normal, sobrepeso, obesidad). Al final, el programa debe imprimir: el nombre del usuario, su categoría y una breve descripción de lo que debe hacer de acuerdo a su categoría."
      ],
      "metadata": {
        "id": "KwI-jSOriEz5"
      }
    },
    {
      "cell_type": "code",
      "source": [
        "while True:\n",
        "    nombre = input(\"Ingresa tu nombre: \")\n",
        "    peso = float(input(\"Ingresa tu peso en kg: \"))\n",
        "    altura = float(input(\"Ingresa tu altura en metros: \"))\n",
        "\n",
        "    imc = peso / (altura ** 2)\n",
        "\n",
        "    if imc < 18.5:\n",
        "        categoria = \"Bajo peso\"\n",
        "        recomendacion = \"Debes aumentar tu ingesta calórica con una dieta equilibrada.\"\n",
        "    elif imc < 25:\n",
        "        categoria = \"Normal\"\n",
        "        recomendacion = \"Sigue con tu estilo de vida saludable.\"\n",
        "    elif imc < 30:\n",
        "        categoria = \"Sobrepeso\"\n",
        "        recomendacion = \"Es recomendable hacer más ejercicio y mejorar la alimentación.\"\n",
        "    else:\n",
        "        categoria = \"Obesidad\"\n",
        "        recomendacion = \"Consulta a un especialista para mejorar tu salud.\"\n",
        "\n",
        "    print(f\"\\n{nombre}, tu categoría es '{categoria}'. {recomendacion}\\n\")\n",
        "    break"
      ],
      "metadata": {
        "colab": {
          "base_uri": "https://localhost:8080/"
        },
        "id": "5mZ3iKtHh8wi",
        "outputId": "542c9a4c-4c24-4e8f-dced-ddc43b6706b4"
      },
      "execution_count": null,
      "outputs": [
        {
          "output_type": "stream",
          "name": "stdout",
          "text": [
            "Ingresa tu nombre: Natalia\n",
            "Ingresa tu peso en kg: 60\n",
            "Ingresa tu altura en metros: 1.61\n",
            "\n",
            "Natalia, tu categoría es 'Normal'. Sigue con tu estilo de vida saludable.\n",
            "\n"
          ]
        }
      ]
    },
    {
      "cell_type": "code",
      "source": [
        "\n",
        "num_personas = int(input(\"¿Cuántas personas deseas evaluar? \"))\n",
        "for _ in range(num_personas):\n",
        "    nombre = input(\"\\nIngresa tu nombre: \")\n",
        "    peso = float(input(\"Ingresa tu peso en kg: \"))\n",
        "    altura = float(input(\"Ingresa tu altura en metros: \"))\n",
        "\n",
        "    imc = peso / (altura ** 2)\n",
        "\n",
        "    if imc < 18.5:\n",
        "        categoria = \"Bajo peso\"\n",
        "        recomendacion = \"Debes aumentar tu ingesta calórica con una dieta equilibrada.\"\n",
        "    elif imc < 25:\n",
        "        categoria = \"Normal\"\n",
        "        recomendacion = \"Sigue con tu estilo de vida saludable.\"\n",
        "    elif imc < 30:\n",
        "        categoria = \"Sobrepeso\"\n",
        "        recomendacion = \"Es recomendable hacer más ejercicio y mejorar la alimentación.\"\n",
        "    else:\n",
        "        categoria = \"Obesidad\"\n",
        "        recomendacion = \"Consulta a un especialista para mejorar tu salud.\"\n",
        "\n",
        "    print(f\"\\n{nombre}, tu categoría es '{categoria}'. {recomendacion}\")"
      ],
      "metadata": {
        "colab": {
          "base_uri": "https://localhost:8080/"
        },
        "id": "Bvd7sTs_i1vE",
        "outputId": "f0026e54-464b-40c7-c7dd-4dc1f1e4f3c1"
      },
      "execution_count": null,
      "outputs": [
        {
          "output_type": "stream",
          "name": "stdout",
          "text": [
            "¿Cuántas personas deseas evaluar? 1\n",
            "\n",
            "Ingresa tu nombre: Camila\n",
            "Ingresa tu peso en kg: 23\n",
            "Ingresa tu altura en metros: 1.45\n",
            "\n",
            "Camila, tu categoría es 'Bajo peso'. Debes aumentar tu ingesta calórica con una dieta equilibrada.\n"
          ]
        }
      ]
    },
    {
      "cell_type": "markdown",
      "source": [
        "EJERCICIO 12: Desarrolla un programa que simule una calculadora simple (+, -, *, /) con dos números."
      ],
      "metadata": {
        "id": "WK_uOF4ekTeH"
      }
    },
    {
      "cell_type": "code",
      "source": [
        "while True:\n",
        "    num1 = float(input(\"Ingresa el primer número: \"))\n",
        "    num2 = float(input(\"Ingresa el segundo número: \"))\n",
        "    operador = input(\"Elige una operación (+, -, *, /): \")\n",
        "\n",
        "    if operador == '+':\n",
        "        resultado = num1 + num2\n",
        "    elif operador == '-':\n",
        "        resultado = num1 - num2\n",
        "    elif operador == '*':\n",
        "        resultado = num1 * num2\n",
        "    elif operador == '/':\n",
        "        if num2 != 0:\n",
        "            resultado = num1 / num2\n",
        "        else:\n",
        "            resultado = \"Error: División por cero\"\n",
        "    else:\n",
        "        resultado = \"Operador inválido\"\n",
        "\n",
        "    print(f\"Resultado: {resultado}\\n\")\n",
        "    break"
      ],
      "metadata": {
        "colab": {
          "base_uri": "https://localhost:8080/"
        },
        "id": "kJDUF3B_koE3",
        "outputId": "3cd17e65-6d82-4ccf-915b-0ef93d90756a"
      },
      "execution_count": null,
      "outputs": [
        {
          "output_type": "stream",
          "name": "stdout",
          "text": [
            "Ingresa el primer número: 25\n",
            "Ingresa el segundo número: 48\n",
            "Elige una operación (+, -, *, /): +\n",
            "Resultado: 73.0\n",
            "\n"
          ]
        }
      ]
    },
    {
      "cell_type": "code",
      "source": [
        "for _ in range(3):  # Realiza 3 operaciones por defecto\n",
        "    num1 = float(input(\"\\nIngresa el primer número: \"))\n",
        "    num2 = float(input(\"Ingresa el segundo número: \"))\n",
        "    operador = input(\"Elige una operación (+, -, *, /): \")\n",
        "\n",
        "    if operador == '+':\n",
        "        resultado = num1 + num2\n",
        "    elif operador == '-':\n",
        "        resultado = num1 - num2\n",
        "    elif operador == '*':\n",
        "        resultado = num1 * num2\n",
        "    elif operador == '/':\n",
        "        if num2 != 0:\n",
        "            resultado = num1 / num2\n",
        "        else:\n",
        "            resultado = \"Error: División por cero\"\n",
        "    else:\n",
        "        resultado = \"Operador inválido\"\n",
        "\n",
        "    print(f\"Resultado: {resultado}\\n\")\n",
        "    break"
      ],
      "metadata": {
        "colab": {
          "base_uri": "https://localhost:8080/"
        },
        "id": "sCtHH4ASli0w",
        "outputId": "7ca7df7d-2aab-4a31-9008-d4b2329f8637"
      },
      "execution_count": null,
      "outputs": [
        {
          "output_type": "stream",
          "name": "stdout",
          "text": [
            "\n",
            "Ingresa el primer número: 23\n",
            "Ingresa el segundo número: 45\n",
            "Elige una operación (+, -, *, /): /\n",
            "Resultado: 0.5111111111111111\n",
            "\n"
          ]
        }
      ]
    },
    {
      "cell_type": "markdown",
      "source": [
        "EJERCICIO 13: Crea un programa que determine la calificación en letras (A, B, C, D, F) según una nota numérica (0-100)."
      ],
      "metadata": {
        "id": "oT1Dg0NOmeum"
      }
    },
    {
      "cell_type": "code",
      "source": [
        "while True:\n",
        "    nota = int(input(\"Ingresa la nota (0-100): \"))\n",
        "\n",
        "    if 90 <= nota <= 100:\n",
        "        calificacion = \"A\"\n",
        "    elif 80 <= nota < 90:\n",
        "        calificacion = \"B\"\n",
        "    elif 70 <= nota < 80:\n",
        "        calificacion = \"C\"\n",
        "    elif 60 <= nota < 70:\n",
        "        calificacion = \"D\"\n",
        "    else:\n",
        "        calificacion = \"F\"\n",
        "\n",
        "    print(f\"Calificación en letra: {calificacion}\\n\")\n",
        "    break"
      ],
      "metadata": {
        "colab": {
          "base_uri": "https://localhost:8080/"
        },
        "id": "NfqYMzcnmnIr",
        "outputId": "8fe384da-aa9f-4cd0-b30c-9f63ec811eaa"
      },
      "execution_count": null,
      "outputs": [
        {
          "output_type": "stream",
          "name": "stdout",
          "text": [
            "Ingresa la nota (0-100): 45\n",
            "Calificación en letra: F\n",
            "\n"
          ]
        }
      ]
    },
    {
      "cell_type": "code",
      "source": [
        "for _ in range(3):\n",
        "    nota = int(input(\"\\nIngresa la nota (0-100): \"))\n",
        "\n",
        "    if 90 <= nota <= 100:\n",
        "        calificacion = \"A\"\n",
        "    elif 80 <= nota < 90:\n",
        "        calificacion = \"B\"\n",
        "    elif 70 <= nota < 80:\n",
        "        calificacion = \"C\"\n",
        "    elif 60 <= nota < 70:\n",
        "        calificacion = \"D\"\n",
        "    else:\n",
        "        calificacion = \"F\"\n",
        "\n",
        "    print(f\"Calificación en letra: {calificacion}\\n\")\n",
        "    break"
      ],
      "metadata": {
        "colab": {
          "base_uri": "https://localhost:8080/"
        },
        "id": "E32_5DcEm3yj",
        "outputId": "67c65e97-ba9d-49b8-b1f9-d8351f31a476"
      },
      "execution_count": null,
      "outputs": [
        {
          "output_type": "stream",
          "name": "stdout",
          "text": [
            "\n",
            "Ingresa la nota (0-100): 89\n",
            "Calificación en letra: B\n",
            "\n"
          ]
        }
      ]
    },
    {
      "cell_type": "markdown",
      "source": [
        "EJERCICIO 14: Escribe un programa que determine el día de la semana según un número (1-7)."
      ],
      "metadata": {
        "id": "QL3PQziCnIFu"
      }
    },
    {
      "cell_type": "code",
      "source": [
        "while True:\n",
        "    num = int(input(\"Ingresa un número (1-7): \"))\n",
        "\n",
        "    if num == 1:\n",
        "        dia = \"Lunes\"\n",
        "    elif num == 2:\n",
        "        dia = \"Martes\"\n",
        "    elif num == 3:\n",
        "        dia = \"Miércoles\"\n",
        "    elif num == 4:\n",
        "        dia = \"Jueves\"\n",
        "    elif num == 5:\n",
        "        dia = \"Viernes\"\n",
        "    elif num == 6:\n",
        "        dia = \"Sábado\"\n",
        "    elif num == 7:\n",
        "        dia = \"Domingo\"\n",
        "    else:\n",
        "        dia = \"Número inválido\"\n",
        "\n",
        "    print(f\"Día de la semana: {dia}\\n\")\n",
        "    break"
      ],
      "metadata": {
        "colab": {
          "base_uri": "https://localhost:8080/"
        },
        "id": "6HrmvN7LnS9S",
        "outputId": "39510f3c-300d-4af0-e38d-9e1af7bcac9d"
      },
      "execution_count": null,
      "outputs": [
        {
          "output_type": "stream",
          "name": "stdout",
          "text": [
            "Ingresa un número (1-7): 3\n",
            "Día de la semana: Miércoles\n",
            "\n"
          ]
        }
      ]
    },
    {
      "cell_type": "code",
      "source": [
        "for _ in range(3):\n",
        "    num = int(input(\"\\nIngresa un número (1-7): \"))\n",
        "\n",
        "    if num == 1:\n",
        "        dia = \"Lunes\"\n",
        "    elif num == 2:\n",
        "        dia = \"Martes\"\n",
        "    elif num == 3:\n",
        "        dia = \"Miércoles\"\n",
        "    elif num == 4:\n",
        "        dia = \"Jueves\"\n",
        "    elif num == 5:\n",
        "        dia = \"Viernes\"\n",
        "    elif num == 6:\n",
        "        dia = \"Sábado\"\n",
        "    elif num == 7:\n",
        "        dia = \"Domingo\"\n",
        "    else:\n",
        "        dia = \"Número inválido\"\n",
        "\n",
        "    print(f\"Día de la semana: {dia}\\n\")\n",
        "    break"
      ],
      "metadata": {
        "colab": {
          "base_uri": "https://localhost:8080/"
        },
        "id": "mhHssE1nnY3C",
        "outputId": "4bfd1793-70e8-4559-814b-830b9499c331"
      },
      "execution_count": null,
      "outputs": [
        {
          "output_type": "stream",
          "name": "stdout",
          "text": [
            "\n",
            "Ingresa un número (1-7): 4\n",
            "Día de la semana: Jueves\n",
            "\n"
          ]
        }
      ]
    },
    {
      "cell_type": "markdown",
      "source": [
        "EJERCICIO 15: Desarrolla un programa que valide si tres números pueden formar un triángulo y de qué tipo es."
      ],
      "metadata": {
        "id": "E48wFd89ntj6"
      }
    },
    {
      "cell_type": "code",
      "source": [
        "while True:\n",
        "    a = float(input(\"Ingresa el primer lado: \"))\n",
        "    b = float(input(\"Ingresa el segundo lado: \"))\n",
        "    c = float(input(\"Ingresa el tercer lado: \"))\n",
        "\n",
        "\n",
        "    if a + b > c and a + c > b and b + c > a:\n",
        "        if a == b == c:\n",
        "            tipo = \"Equilátero\"\n",
        "        elif a == b or a == c or b == c:\n",
        "            tipo = \"Isósceles\"\n",
        "        else:\n",
        "            tipo = \"Escaleno\"\n",
        "        print(f\"Los lados forman un triángulo {tipo}.\")\n",
        "    else:\n",
        "        print(\"Los lados no forman un triángulo.\")\n",
        "    break"
      ],
      "metadata": {
        "colab": {
          "base_uri": "https://localhost:8080/"
        },
        "id": "eQ7L39LUoEJ3",
        "outputId": "da546df6-b267-4cdb-bf7b-be4b43b57cf6"
      },
      "execution_count": null,
      "outputs": [
        {
          "output_type": "stream",
          "name": "stdout",
          "text": [
            "Ingresa el primer lado: 23\n",
            "Ingresa el segundo lado: 34\n",
            "Ingresa el tercer lado: 23\n",
            "Los lados forman un triángulo Isósceles.\n"
          ]
        }
      ]
    },
    {
      "cell_type": "code",
      "source": [
        "for _ in range(3):  # Evalúa 3 conjuntos de números por defecto\n",
        "    a = float(input(\"\\nIngresa el primer lado: \"))\n",
        "    b = float(input(\"Ingresa el segundo lado: \"))\n",
        "    c = float(input(\"Ingresa el tercer lado: \"))\n",
        "\n",
        "    if a + b > c and a + c > b and b + c > a:\n",
        "        if a == b == c:\n",
        "            tipo = \"Equilátero\"\n",
        "        elif a == b or a == c or b == c:\n",
        "            tipo = \"Isósceles\"\n",
        "        else:\n",
        "            tipo = \"Escaleno\"\n",
        "        print(f\"Los lados forman un triángulo {tipo}.\")\n",
        "    else:\n",
        "        print(\"Los lados no forman un triángulo.\")\n",
        "    break"
      ],
      "metadata": {
        "colab": {
          "base_uri": "https://localhost:8080/"
        },
        "id": "5O_aFXaboEgJ",
        "outputId": "6485bea2-92fc-4e96-d275-fbdb49110eb7"
      },
      "execution_count": null,
      "outputs": [
        {
          "output_type": "stream",
          "name": "stdout",
          "text": [
            "\n",
            "Ingresa el primer lado: 23\n",
            "Ingresa el segundo lado: 45\n",
            "Ingresa el tercer lado: 22\n",
            "Los lados no forman un triángulo.\n"
          ]
        }
      ]
    },
    {
      "cell_type": "markdown",
      "source": [
        "EJERCICIO 16: Crea un programa que muestre la tabla de multiplicar de un número hasta el 10."
      ],
      "metadata": {
        "id": "ZmeWNdBGouzS"
      }
    },
    {
      "cell_type": "code",
      "source": [
        "while True:\n",
        "    num = int(input(\"Ingresa un número para ver su tabla de multiplicar: \"))\n",
        "\n",
        "    i = 1\n",
        "    while i <= 10:\n",
        "        print(f\"{num} x {i} = {num * i}\")\n",
        "        i += 1\n",
        "\n",
        "\n",
        "    break"
      ],
      "metadata": {
        "colab": {
          "base_uri": "https://localhost:8080/"
        },
        "id": "bz_tqFR0oy8h",
        "outputId": "df837c23-4e95-4b9a-ab4d-d01317bc6bf4"
      },
      "execution_count": null,
      "outputs": [
        {
          "output_type": "stream",
          "name": "stdout",
          "text": [
            "Ingresa un número para ver su tabla de multiplicar: 23\n",
            "23 x 1 = 23\n",
            "23 x 2 = 46\n",
            "23 x 3 = 69\n",
            "23 x 4 = 92\n",
            "23 x 5 = 115\n",
            "23 x 6 = 138\n",
            "23 x 7 = 161\n",
            "23 x 8 = 184\n",
            "23 x 9 = 207\n",
            "23 x 10 = 230\n"
          ]
        }
      ]
    },
    {
      "cell_type": "code",
      "source": [
        "num = int(input(\"Ingresa un número para ver su tabla de multiplicar: \"))\n",
        "\n",
        "for i in range(1, 11):\n",
        "    print(f\"{num} x {i} = {num * i}\")\n"
      ],
      "metadata": {
        "colab": {
          "base_uri": "https://localhost:8080/"
        },
        "id": "ecB2K6uwozIZ",
        "outputId": "478d1b3b-f79f-4e36-aa9a-8b6528bcb5b7"
      },
      "execution_count": null,
      "outputs": [
        {
          "output_type": "stream",
          "name": "stdout",
          "text": [
            "Ingresa un número para ver su tabla de multiplicar: 22\n",
            "22 x 1 = 22\n",
            "22 x 2 = 44\n",
            "22 x 3 = 66\n",
            "22 x 4 = 88\n",
            "22 x 5 = 110\n",
            "22 x 6 = 132\n",
            "22 x 7 = 154\n",
            "22 x 8 = 176\n",
            "22 x 9 = 198\n",
            "22 x 10 = 220\n"
          ]
        }
      ]
    },
    {
      "cell_type": "markdown",
      "source": [
        "Ejercicio 17: Escribe un programa que calcule la suma de números naturales hasta n."
      ],
      "metadata": {
        "id": "cM5q2jhGwiyI"
      }
    },
    {
      "cell_type": "code",
      "source": [
        "n = int(input(\"Ingrese un número: \"))\n",
        "suma = 0\n",
        "i = 1\n",
        "while i <= n:\n",
        "    suma += i\n",
        "    i += 1\n",
        "print(f\"La suma de los números desde 1 hasta {n} es: {suma}\")"
      ],
      "metadata": {
        "colab": {
          "base_uri": "https://localhost:8080/"
        },
        "id": "qFdEkdBXwgPD",
        "outputId": "5228f9d3-38c5-4a2b-eac3-3bbf0d5c9fbf"
      },
      "execution_count": null,
      "outputs": [
        {
          "output_type": "stream",
          "name": "stdout",
          "text": [
            "Ingrese un número: 89\n",
            "La suma de los números desde 1 hasta 89 es: 4005\n"
          ]
        }
      ]
    },
    {
      "cell_type": "code",
      "source": [
        "n = int(input(\"Ingrese un número: \"))\n",
        "suma = 0\n",
        "for i in range(1, n + 1):\n",
        "    suma += i\n",
        "print(f\"La suma de los números desde 1 hasta {n} es: {suma}\")"
      ],
      "metadata": {
        "colab": {
          "base_uri": "https://localhost:8080/"
        },
        "id": "Fju2bhvJzBR3",
        "outputId": "c2a80dd8-9e26-451b-ef8b-b603a3156a44"
      },
      "execution_count": null,
      "outputs": [
        {
          "output_type": "stream",
          "name": "stdout",
          "text": [
            "Ingrese un número: 89\n",
            "La suma de los números desde 1 hasta 89 es: 4005\n"
          ]
        }
      ]
    },
    {
      "cell_type": "markdown",
      "source": [
        "Ejercicio 18: Desarrolla un programa que calcule el factorial de un número. Recuerda que el factorial de 0 es 1 y no existen factoriales negativos.\n",
        "\n"
      ],
      "metadata": {
        "id": "6bZmYVT03czs"
      }
    },
    {
      "cell_type": "code",
      "source": [
        "num = int(input(\"Introduce un número para calcular su factorial: \"))\n",
        "if num < 0:\n",
        "    print(\"No existen factoriales de números negativos.\")\n",
        "else:\n",
        "    factorial = 1\n",
        "    contador = 1\n",
        "    if num > 0:\n",
        "        while contador <= num:\n",
        "            factorial *= contador\n",
        "            contador += 1\n",
        "    print(f\"El factorial de {num} es: {factorial}\")"
      ],
      "metadata": {
        "colab": {
          "base_uri": "https://localhost:8080/"
        },
        "id": "TepT6rWQ3gC9",
        "outputId": "e1ad894e-f77d-4b45-da3d-2a61e4761d4e"
      },
      "execution_count": 3,
      "outputs": [
        {
          "output_type": "stream",
          "name": "stdout",
          "text": [
            "Introduce un número para calcular su factorial: 78\n",
            "El factorial de 78 es: 11324281178206297831457521158732046228731749579488251990048962825668835325234200766245086213177344000000000000000000\n"
          ]
        }
      ]
    },
    {
      "cell_type": "code",
      "source": [
        "num = int(input(\"Introduce un número para calcular su factorial: \"))\n",
        "if num < 0:\n",
        "    print(\"No existen factoriales de números negativos.\")\n",
        "else:\n",
        "    factorial = 1\n",
        "    for i in range(1, num + 1):\n",
        "        factorial *= i\n",
        "    print(f\"El factorial de {num} es: {factorial}\")"
      ],
      "metadata": {
        "colab": {
          "base_uri": "https://localhost:8080/"
        },
        "id": "aVqCvQsJ3gfF",
        "outputId": "20022aba-34e2-4ba6-9703-1fa06c2efb48"
      },
      "execution_count": 4,
      "outputs": [
        {
          "output_type": "stream",
          "name": "stdout",
          "text": [
            "Introduce un número para calcular su factorial: 15\n",
            "El factorial de 15 es: 1307674368000\n"
          ]
        }
      ]
    },
    {
      "cell_type": "markdown",
      "source": [
        "Ejercicio 19: Crea un programa que muestre los primeros n números de la serie Fibonacci"
      ],
      "metadata": {
        "id": "G8-N_cQrzPgP"
      }
    },
    {
      "cell_type": "code",
      "source": [
        "n = int(input(\"¿Cuántos números de la serie Fibonacci desea generar? \"))\n",
        "a = 0\n",
        "b = 1\n",
        "contador = 1\n",
        "\n",
        "if n <= 0:\n",
        "    print(\"Por favor ingrese un número positivo\")\n",
        "elif n == 1:\n",
        "    print(\"Serie Fibonacci hasta\", n, \":\")\n",
        "    print(a)\n",
        "else:\n",
        "    print(\"Serie Fibonacci hasta\", n, \":\")\n",
        "    print(a, end=\" \")\n",
        "\n",
        "    while contador < n:\n",
        "        print(b, end=\" \")\n",
        "        siguiente = a + b\n",
        "        a = b\n",
        "        b = siguiente\n",
        "        contador += 1"
      ],
      "metadata": {
        "colab": {
          "base_uri": "https://localhost:8080/"
        },
        "id": "4vlDMzQ_zWs8",
        "outputId": "95ce8506-da1a-415e-e917-6715fd4179e9"
      },
      "execution_count": null,
      "outputs": [
        {
          "output_type": "stream",
          "name": "stdout",
          "text": [
            "¿Cuántos números de la serie Fibonacci desea generar? 16\n",
            "Serie Fibonacci hasta 16 :\n",
            "0 1 1 2 3 5 8 13 21 34 55 89 144 233 377 610 "
          ]
        }
      ]
    },
    {
      "cell_type": "code",
      "source": [
        "n = int(input(\"¿Cuántos números de la serie Fibonacci desea generar? \"))\n",
        "a = 0\n",
        "b = 1\n",
        "\n",
        "if n <= 0:\n",
        "    print(\"Por favor ingrese un número positivo\")\n",
        "elif n == 1:\n",
        "    print(\"Serie Fibonacci hasta\", n, \":\")\n",
        "    print(a)\n",
        "else:\n",
        "    print(\"Serie Fibonacci hasta\", n, \":\")\n",
        "    print(a, end=\" \")\n",
        "\n",
        "    for i in range(n-1):\n",
        "        print(b, end=\" \")\n",
        "        siguiente = a + b\n",
        "        a = b\n",
        "        b = siguiente"
      ],
      "metadata": {
        "colab": {
          "base_uri": "https://localhost:8080/"
        },
        "id": "jqL3VAZF0ETy",
        "outputId": "7a059de2-0865-4179-ee55-698a734659c6"
      },
      "execution_count": null,
      "outputs": [
        {
          "output_type": "stream",
          "name": "stdout",
          "text": [
            "¿Cuántos números de la serie Fibonacci desea generar? 16\n",
            "Serie Fibonacci hasta 16 :\n",
            "0 1 1 2 3 5 8 13 21 34 55 89 144 233 377 610 "
          ]
        }
      ]
    },
    {
      "cell_type": "markdown",
      "source": [
        "Ejercicio 20:Escribe un programa que adivine entre un conjunto de diez colores definidos por el usuario, con un máximo de 10 intentos. con while"
      ],
      "metadata": {
        "id": "BcHu3Toa0KS2"
      }
    },
    {
      "cell_type": "code",
      "source": [
        "import random\n",
        "colores = []\n",
        "print(\"Define 10 colores:\")\n",
        "i = 0\n",
        "while i < 10:\n",
        "    color = input(f\"Color {i+1}: \").lower().strip()\n",
        "    colores.append(color)\n",
        "    i += 1\n",
        "color_secreto = random.choice(colores)\n",
        "intentos = 0\n",
        "adivinado = False\n",
        "\n",
        "print(\"\\n¡Adivina el color que he elegido!\")\n",
        "print(\"Tienes un máximo de 10 intentos.\")\n",
        "while intentos < 10 and not adivinado:\n",
        "    intento = input(f\"Intento {intentos+1}: \").lower().strip()\n",
        "    intentos += 1\n",
        "\n",
        "    if intento == color_secreto:\n",
        "        adivinado = True\n",
        "        print(f\"¡Correcto! Has adivinado en {intentos} intentos.\")\n",
        "    else:\n",
        "        if intentos < 10:\n",
        "            print(\"Incorrecto. Inténtalo de nuevo.\")\n",
        "        else:\n",
        "            print(\"Lo siento, has agotado tus 10 intentos.\")\n",
        "\n",
        "if not adivinado:\n",
        "    print(f\"El color secreto era: {color_secreto}\")"
      ],
      "metadata": {
        "colab": {
          "base_uri": "https://localhost:8080/"
        },
        "id": "U-x9X0yk0Vhm",
        "outputId": "c8d6847e-4591-4d68-d166-eb33ec0829b5"
      },
      "execution_count": 1,
      "outputs": [
        {
          "output_type": "stream",
          "name": "stdout",
          "text": [
            "Define 10 colores:\n",
            "Color 1: Azul\n",
            "Color 2: Verde\n",
            "Color 3: Morado\n",
            "Color 4: Amarillo\n",
            "Color 5: Blanco \n",
            "Color 6: Negro\n",
            "Color 7: Rosado\n",
            "Color 8: Rojo\n",
            "Color 9: Cafe\n",
            "Color 10: Gris\n",
            "\n",
            "¡Adivina el color que he elegido!\n",
            "Tienes un máximo de 10 intentos.\n",
            "Intento 1: Azul\n",
            "Incorrecto. Inténtalo de nuevo.\n",
            "Intento 2: Verde\n",
            "Incorrecto. Inténtalo de nuevo.\n",
            "Intento 3: Morado \n",
            "Incorrecto. Inténtalo de nuevo.\n",
            "Intento 4: Amarillo \n",
            "Incorrecto. Inténtalo de nuevo.\n",
            "Intento 5: Blanco \n",
            "Incorrecto. Inténtalo de nuevo.\n",
            "Intento 6: Gris\n",
            "Incorrecto. Inténtalo de nuevo.\n",
            "Intento 7: Cafe\n",
            "Incorrecto. Inténtalo de nuevo.\n",
            "Intento 8: Rosadp\n",
            "Incorrecto. Inténtalo de nuevo.\n",
            "Intento 9: Rosado\n",
            "Incorrecto. Inténtalo de nuevo.\n",
            "Intento 10: Negro\n",
            "Lo siento, has agotado tus 10 intentos.\n",
            "El color secreto era: rojo\n"
          ]
        }
      ]
    },
    {
      "cell_type": "code",
      "source": [
        "adivinado = False\n",
        "\n",
        "print(\"\\n¡Adivina el color que he elegido!\")\n",
        "print(\"Tienes un máximo de 10 intentos.\")\n",
        "\n",
        "for intento_num in range(1, 11):\n",
        "    intento = input(f\"Intento {intento_num}: \").lower().strip()\n",
        "\n",
        "    if intento == color_secreto:\n",
        "        adivinado = True\n",
        "        print(f\"¡Correcto! Has adivinado en {intento_num} intentos.\")\n",
        "        break\n",
        "    else:\n",
        "        if intento_num < 10:\n",
        "            print(\"Incorrecto. Inténtalo de nuevo.\")\n",
        "        else:\n",
        "            print(\"Lo siento, has agotado tus 10 intentos.\")\n",
        "\n",
        "if not adivinado:\n",
        "    print(f\"El color secreto era: {color_secreto}\")"
      ],
      "metadata": {
        "id": "HZxuAw9Q0wBR",
        "colab": {
          "base_uri": "https://localhost:8080/"
        },
        "outputId": "83b20f8c-1e26-4dff-8cc5-7816e31cecf4"
      },
      "execution_count": 2,
      "outputs": [
        {
          "output_type": "stream",
          "name": "stdout",
          "text": [
            "\n",
            "¡Adivina el color que he elegido!\n",
            "Tienes un máximo de 10 intentos.\n",
            "Intento 1: Azul\n",
            "Incorrecto. Inténtalo de nuevo.\n",
            "Intento 2: Verde \n",
            "Incorrecto. Inténtalo de nuevo.\n",
            "Intento 3: Amarillo \n",
            "Incorrecto. Inténtalo de nuevo.\n",
            "Intento 4: Negro \n",
            "Incorrecto. Inténtalo de nuevo.\n",
            "Intento 5: Rojo \n",
            "¡Correcto! Has adivinado en 5 intentos.\n"
          ]
        }
      ]
    }
  ]
}