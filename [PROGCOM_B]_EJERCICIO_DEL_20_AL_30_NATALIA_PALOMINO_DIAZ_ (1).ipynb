{
  "nbformat": 4,
  "nbformat_minor": 0,
  "metadata": {
    "colab": {
      "provenance": []
    },
    "kernelspec": {
      "name": "python3",
      "display_name": "Python 3"
    },
    "language_info": {
      "name": "python"
    }
  },
  "cells": [
    {
      "cell_type": "markdown",
      "source": [
        " EJERCICIO 20: Adivinar un color entre 10 definidos por el usuario, con un máximo de 10 intentos."
      ],
      "metadata": {
        "id": "Rksq645ykmFe"
      }
    },
    {
      "cell_type": "code",
      "execution_count": null,
      "metadata": {
        "colab": {
          "base_uri": "https://localhost:8080/"
        },
        "id": "DZz6ea49kkgW",
        "outputId": "2bb297ca-7c67-49bb-d2b5-4bc895ca969e"
      },
      "outputs": [
        {
          "output_type": "stream",
          "name": "stdout",
          "text": [
            "Define 10 colores:\n",
            "Color 1: rojo\n",
            "Color 2: verde\n",
            "Color 3: azul\n",
            "Color 4: negro\n",
            "Color 5: cafe\n",
            "Color 6: blanco\n",
            "Color 7: amarillo\n",
            "Color 8: morado\n",
            "Color 9: gris\n",
            "Color 10: lila\n",
            "Adivina el color en 10 intentos.\n",
            "Intento 1: rojo\n",
            "Incorrecto. Intenta otra vez.\n",
            "Intento 2: verde\n",
            "Incorrecto. Intenta otra vez.\n",
            "Intento 3: azul\n",
            "Incorrecto. Intenta otra vez.\n",
            "Intento 4: negro\n",
            "Incorrecto. Intenta otra vez.\n",
            "Intento 5: cafe\n",
            "Incorrecto. Intenta otra vez.\n",
            "Intento 6: blanco\n",
            "¡Correcto! Has adivinado el color.\n"
          ]
        }
      ],
      "source": [
        "import random\n",
        "\n",
        "def juego_colores_comprension():\n",
        "    print(\"Define 10 colores:\")\n",
        "    colores = [input(f\"Color {i+1}: \") for i in range(10)]\n",
        "    color_secreto = random.choice(colores)\n",
        "\n",
        "    print(\"Adivina el color en 10 intentos.\")\n",
        "    for intento in range(1, 11):\n",
        "        adivinanza = input(f\"Intento {intento}: \")\n",
        "        if adivinanza == color_secreto:\n",
        "            print(\"¡Correcto! Has adivinado el color.\")\n",
        "            return\n",
        "        print(\"Incorrecto. Intenta otra vez.\")\n",
        "\n",
        "    print(f\"No adivinaste. El color era: {color_secreto}\")\n",
        "\n",
        "# Ejecutar el juego\n",
        "juego_colores_comprension()"
      ]
    },
    {
      "cell_type": "code",
      "source": [
        "import random\n",
        "\n",
        "def juego_colores_lambda():\n",
        "    print(\"Define 10 colores:\")\n",
        "    colores = list(map(lambda _: input(\"Color: \"), range(10)))\n",
        "    color_secreto = random.choice(colores)\n",
        "\n",
        "    print(\"Adivina el color en 10 intentos.\")\n",
        "    intento = 1\n",
        "    adivinar = (lambda intento: (print(f\"Intento {intento}: \") or input()) if intento <= 10 else None)\n",
        "\n",
        "    while intento <= 10:\n",
        "        if adivinar(intento) == color_secreto:\n",
        "            print(\"¡Correcto! Has adivinado el color.\")\n",
        "            return\n",
        "        print(\"Incorrecto. Intenta otra vez.\")\n",
        "        intento += 1\n",
        "\n",
        "    print(f\"No adivinaste. El color era: {color_secreto}\")\n",
        "\n",
        "# Ejecutar el juego\n",
        "juego_colores_lambda()\n"
      ],
      "metadata": {
        "colab": {
          "base_uri": "https://localhost:8080/"
        },
        "id": "2xlHFaxCkpwf",
        "outputId": "16a3a355-81d7-4963-e587-ac500953f4c6"
      },
      "execution_count": null,
      "outputs": [
        {
          "output_type": "stream",
          "name": "stdout",
          "text": [
            "Define 10 colores:\n",
            "Color: negro\n",
            "Color: cafe\n",
            "Color: lila\n",
            "Color: amarillo\n",
            "Color: azul\n",
            "Color: verde\n",
            "Color: naranja\n",
            "Color: blanco\n",
            "Color: rojo\n",
            "Color: morado\n",
            "Adivina el color en 10 intentos.\n",
            "Intento 1: \n",
            "negro\n",
            "Incorrecto. Intenta otra vez.\n",
            "Intento 2: \n",
            "cafe\n",
            "Incorrecto. Intenta otra vez.\n",
            "Intento 3: \n",
            "lila\n",
            "Incorrecto. Intenta otra vez.\n",
            "Intento 4: \n",
            "amarillo\n",
            "Incorrecto. Intenta otra vez.\n",
            "Intento 5: \n",
            "azul\n",
            "¡Correcto! Has adivinado el color.\n"
          ]
        }
      ]
    },
    {
      "cell_type": "markdown",
      "source": [
        "EJERCICIO 21: Desarrolla un programa que muestre los números pares del 1 al 100."
      ],
      "metadata": {
        "id": "O6JadSC8lM19"
      }
    },
    {
      "cell_type": "code",
      "source": [
        "def pares_comprension():\n",
        "    pares = [num for num in range(1, 101) if num % 2 == 0]\n",
        "    print(\"Números pares del 1 al 100 (Comprensión):\")\n",
        "    print(pares)\n",
        "\n",
        "if __name__ == \"__main__\":\n",
        "    pares_comprension()"
      ],
      "metadata": {
        "colab": {
          "base_uri": "https://localhost:8080/"
        },
        "id": "gUxsU9lNlYBt",
        "outputId": "e11ec198-59b3-4d96-b621-b66cfac96b99"
      },
      "execution_count": null,
      "outputs": [
        {
          "output_type": "stream",
          "name": "stdout",
          "text": [
            "Números pares del 1 al 100 (Comprensión):\n",
            "[2, 4, 6, 8, 10, 12, 14, 16, 18, 20, 22, 24, 26, 28, 30, 32, 34, 36, 38, 40, 42, 44, 46, 48, 50, 52, 54, 56, 58, 60, 62, 64, 66, 68, 70, 72, 74, 76, 78, 80, 82, 84, 86, 88, 90, 92, 94, 96, 98, 100]\n"
          ]
        }
      ]
    },
    {
      "cell_type": "code",
      "source": [
        "def pares_lambda():\n",
        "    pares = list(filter(lambda num: num % 2 == 0, range(1, 101)))\n",
        "    print(\"Números pares del 1 al 100 (Lambda):\")\n",
        "    print(pares)\n",
        "\n",
        "# Ejecutar función\n",
        "if __name__ == \"__main__\":\n",
        "    pares_lambda()"
      ],
      "metadata": {
        "colab": {
          "base_uri": "https://localhost:8080/"
        },
        "id": "MmNNsWzdlYWM",
        "outputId": "e36a3194-8c87-44dd-f910-15b18871304b"
      },
      "execution_count": null,
      "outputs": [
        {
          "output_type": "stream",
          "name": "stdout",
          "text": [
            "Números pares del 1 al 100 (Lambda):\n",
            "[2, 4, 6, 8, 10, 12, 14, 16, 18, 20, 22, 24, 26, 28, 30, 32, 34, 36, 38, 40, 42, 44, 46, 48, 50, 52, 54, 56, 58, 60, 62, 64, 66, 68, 70, 72, 74, 76, 78, 80, 82, 84, 86, 88, 90, 92, 94, 96, 98, 100]\n"
          ]
        }
      ]
    },
    {
      "cell_type": "markdown",
      "source": [
        "EJERCICIO 22: Crea un programa que calcule la suma de los dígitos de un número."
      ],
      "metadata": {
        "id": "RZsIT1cfoP0y"
      }
    },
    {
      "cell_type": "code",
      "source": [
        "def suma_digitos_comprension(numero):\n",
        "    return sum([int(digito) for digito in str(numero)])\n",
        "\n",
        "if __name__ == \"__main__\":\n",
        "    numero = int(input(\"Ingresa un número: \"))\n",
        "    print(f\"La suma de los dígitos es: {suma_digitos_comprension(numero)}\")"
      ],
      "metadata": {
        "colab": {
          "base_uri": "https://localhost:8080/"
        },
        "id": "FHdAwMrJodTr",
        "outputId": "1b157cf7-6f7c-4c08-b39c-dba5c98d101d"
      },
      "execution_count": null,
      "outputs": [
        {
          "output_type": "stream",
          "name": "stdout",
          "text": [
            "Ingresa un número: 98\n",
            "La suma de los dígitos es: 17\n"
          ]
        }
      ]
    },
    {
      "cell_type": "code",
      "source": [
        "suma_digitos_lambda = lambda numero: sum(map(int, str(numero)))\n",
        "\n",
        "if __name__ == \"__main__\":\n",
        "    numero = int(input(\"Ingresa un número: \"))\n",
        "    print(f\"La suma de los dígitos es: {suma_digitos_lambda(numero)}\")\n"
      ],
      "metadata": {
        "colab": {
          "base_uri": "https://localhost:8080/"
        },
        "id": "JBFsb919olJa",
        "outputId": "fc0b54c7-fe67-46f7-8d92-ec5ffec05c94"
      },
      "execution_count": null,
      "outputs": [
        {
          "output_type": "stream",
          "name": "stdout",
          "text": [
            "Ingresa un número: 78\n",
            "La suma de los dígitos es: 15\n"
          ]
        }
      ]
    },
    {
      "cell_type": "markdown",
      "source": [
        "EJERCICIO 23: Escribe un programa que determine si un número es primo.\n"
      ],
      "metadata": {
        "id": "onsTjIIKosfj"
      }
    },
    {
      "cell_type": "code",
      "source": [
        "def es_primo(numero):\n",
        "    if numero < 2:\n",
        "        return False\n",
        "    for i in range(2, int(numero**0.5) + 1):\n",
        "        if numero % i == 0:\n",
        "            return False\n",
        "    return True\n",
        "\n",
        "numero = int(input(\"Introduce un número: \"))\n",
        "if es_primo(numero):\n",
        "    print(f\"{numero} es primo.\")\n",
        "else:\n",
        "    print(f\"{numero} no es primo.\")"
      ],
      "metadata": {
        "id": "ffuTDhSao-Qq",
        "colab": {
          "base_uri": "https://localhost:8080/"
        },
        "outputId": "ff932723-6846-42f4-cf94-39571a1f7921"
      },
      "execution_count": null,
      "outputs": [
        {
          "output_type": "stream",
          "name": "stdout",
          "text": [
            "Introduce un número: 78\n",
            "78 no es primo.\n"
          ]
        }
      ]
    },
    {
      "cell_type": "code",
      "source": [
        "es_primo = lambda n: all(n % i != 0 for i in range(2, int(n**0.5) + 1)) if n > 1 else False\n",
        "numero = int(input(\"Introduce un número: \"))\n",
        "if es_primo(numero):\n",
        "    print(f\"{numero} es primo.\")\n",
        "else:\n",
        "    print(f\"{numero} no es primo.\")"
      ],
      "metadata": {
        "id": "PMxxbrRuo-ha",
        "colab": {
          "base_uri": "https://localhost:8080/"
        },
        "outputId": "63586979-8593-42c0-c0a6-afd5980d8ec0"
      },
      "execution_count": null,
      "outputs": [
        {
          "output_type": "stream",
          "name": "stdout",
          "text": [
            "Introduce un número: 85\n",
            "85 no es primo.\n"
          ]
        }
      ]
    },
    {
      "cell_type": "markdown",
      "source": [
        "EJERCICIO 24: Desarrolla un programa que muestre el patrón de un triángulo con asteriscos."
      ],
      "metadata": {
        "id": "ha1j2SHao-0K"
      }
    },
    {
      "cell_type": "code",
      "source": [
        "n = int(input(\"Ingrese el número de filas: \"))\n",
        "triangulo = [\"*\" * i for i in range(1, n + 1)]\n",
        "print(\"\\n\".join(triangulo))"
      ],
      "metadata": {
        "id": "wVaeqdRDpDBC",
        "colab": {
          "base_uri": "https://localhost:8080/"
        },
        "outputId": "6b6424cf-e979-4edf-e2d9-1f196a580aeb"
      },
      "execution_count": null,
      "outputs": [
        {
          "output_type": "stream",
          "name": "stdout",
          "text": [
            "Ingrese el número de filas: 9\n",
            "*\n",
            "**\n",
            "***\n",
            "****\n",
            "*****\n",
            "******\n",
            "*******\n",
            "********\n",
            "*********\n"
          ]
        }
      ]
    },
    {
      "cell_type": "code",
      "source": [
        "n = int(input(\"Ingrese el número de filas: \"))\n",
        "triangulo_lambda = list(map(lambda i: \"*\" * i, range(1, n + 1)))\n",
        "print(\"\\n\".join(triangulo_lambda))"
      ],
      "metadata": {
        "id": "0hC_pd1_pDNR",
        "colab": {
          "base_uri": "https://localhost:8080/"
        },
        "outputId": "5e903eb1-76b0-4119-a2fe-4199fdac79ff"
      },
      "execution_count": null,
      "outputs": [
        {
          "output_type": "stream",
          "name": "stdout",
          "text": [
            "Ingrese el número de filas: 6\n",
            "*\n",
            "**\n",
            "***\n",
            "****\n",
            "*****\n",
            "******\n"
          ]
        }
      ]
    },
    {
      "cell_type": "markdown",
      "source": [
        "EJERCICIO 25: Crea un programa que calcule la potencia de un número sin usar el operador"
      ],
      "metadata": {
        "id": "YsnOMgw2rGEg"
      }
    },
    {
      "cell_type": "code",
      "source": [
        "base = int(input(\"Ingrese la base: \"))\n",
        "exponente = int(input(\"Ingrese el exponente: \"))\n",
        "\n",
        "resultado = 1 if exponente == 0 else [base := base * base for _ in range(exponente - 1)][-1]\n",
        "print(\"Resultado:\", resultado)"
      ],
      "metadata": {
        "colab": {
          "base_uri": "https://localhost:8080/"
        },
        "id": "D9B8EOo5rKZg",
        "outputId": "60c607bf-a04d-4c5a-9d73-fb37a7c02071"
      },
      "execution_count": null,
      "outputs": [
        {
          "output_type": "stream",
          "name": "stdout",
          "text": [
            "Ingrese la base: 8\n",
            "Ingrese el exponente: 5\n",
            "Resultado: 281474976710656\n"
          ]
        }
      ]
    },
    {
      "cell_type": "code",
      "source": [
        "from functools import reduce\n",
        "\n",
        "base = int(input(\"Ingrese la base: \"))\n",
        "exponente = int(input(\"Ingrese el exponente: \"))\n",
        "\n",
        "potencia_lambda = lambda b, e: reduce(lambda x, _: x * b, range(e), 1)\n",
        "resultado = potencia_lambda(base, exponente)\n",
        "\n",
        "print(\"Resultado:\", resultado)"
      ],
      "metadata": {
        "colab": {
          "base_uri": "https://localhost:8080/"
        },
        "id": "HYVx6vnYrK-S",
        "outputId": "9362dc1e-2b47-4f49-ce64-5d01f7aecd16"
      },
      "execution_count": null,
      "outputs": [
        {
          "output_type": "stream",
          "name": "stdout",
          "text": [
            "Ingrese la base: 5\n",
            "Ingrese el exponente: 4\n",
            "Resultado: 625\n"
          ]
        }
      ]
    },
    {
      "cell_type": "markdown",
      "source": [
        "EJERCICIO 26:Escribe un programa que muestre todas las tablas de multiplicar del 1 al 10."
      ],
      "metadata": {
        "id": "YoooKZ-Pro0n"
      }
    },
    {
      "cell_type": "code",
      "source": [
        "tablas = [[f\"{i} x {j} = {i * j}\" for j in range(1, 11)] for i in range(1, 11)]\n",
        "for tabla in tablas:\n",
        "    print(\"\\n\".join(tabla))\n",
        "    print()"
      ],
      "metadata": {
        "colab": {
          "base_uri": "https://localhost:8080/"
        },
        "id": "bzIpkUW3r0Fi",
        "outputId": "3c8d412a-7226-474b-9437-8164375ad757"
      },
      "execution_count": null,
      "outputs": [
        {
          "output_type": "stream",
          "name": "stdout",
          "text": [
            "1 x 1 = 1\n",
            "1 x 2 = 2\n",
            "1 x 3 = 3\n",
            "1 x 4 = 4\n",
            "1 x 5 = 5\n",
            "1 x 6 = 6\n",
            "1 x 7 = 7\n",
            "1 x 8 = 8\n",
            "1 x 9 = 9\n",
            "1 x 10 = 10\n",
            "\n",
            "2 x 1 = 2\n",
            "2 x 2 = 4\n",
            "2 x 3 = 6\n",
            "2 x 4 = 8\n",
            "2 x 5 = 10\n",
            "2 x 6 = 12\n",
            "2 x 7 = 14\n",
            "2 x 8 = 16\n",
            "2 x 9 = 18\n",
            "2 x 10 = 20\n",
            "\n",
            "3 x 1 = 3\n",
            "3 x 2 = 6\n",
            "3 x 3 = 9\n",
            "3 x 4 = 12\n",
            "3 x 5 = 15\n",
            "3 x 6 = 18\n",
            "3 x 7 = 21\n",
            "3 x 8 = 24\n",
            "3 x 9 = 27\n",
            "3 x 10 = 30\n",
            "\n",
            "4 x 1 = 4\n",
            "4 x 2 = 8\n",
            "4 x 3 = 12\n",
            "4 x 4 = 16\n",
            "4 x 5 = 20\n",
            "4 x 6 = 24\n",
            "4 x 7 = 28\n",
            "4 x 8 = 32\n",
            "4 x 9 = 36\n",
            "4 x 10 = 40\n",
            "\n",
            "5 x 1 = 5\n",
            "5 x 2 = 10\n",
            "5 x 3 = 15\n",
            "5 x 4 = 20\n",
            "5 x 5 = 25\n",
            "5 x 6 = 30\n",
            "5 x 7 = 35\n",
            "5 x 8 = 40\n",
            "5 x 9 = 45\n",
            "5 x 10 = 50\n",
            "\n",
            "6 x 1 = 6\n",
            "6 x 2 = 12\n",
            "6 x 3 = 18\n",
            "6 x 4 = 24\n",
            "6 x 5 = 30\n",
            "6 x 6 = 36\n",
            "6 x 7 = 42\n",
            "6 x 8 = 48\n",
            "6 x 9 = 54\n",
            "6 x 10 = 60\n",
            "\n",
            "7 x 1 = 7\n",
            "7 x 2 = 14\n",
            "7 x 3 = 21\n",
            "7 x 4 = 28\n",
            "7 x 5 = 35\n",
            "7 x 6 = 42\n",
            "7 x 7 = 49\n",
            "7 x 8 = 56\n",
            "7 x 9 = 63\n",
            "7 x 10 = 70\n",
            "\n",
            "8 x 1 = 8\n",
            "8 x 2 = 16\n",
            "8 x 3 = 24\n",
            "8 x 4 = 32\n",
            "8 x 5 = 40\n",
            "8 x 6 = 48\n",
            "8 x 7 = 56\n",
            "8 x 8 = 64\n",
            "8 x 9 = 72\n",
            "8 x 10 = 80\n",
            "\n",
            "9 x 1 = 9\n",
            "9 x 2 = 18\n",
            "9 x 3 = 27\n",
            "9 x 4 = 36\n",
            "9 x 5 = 45\n",
            "9 x 6 = 54\n",
            "9 x 7 = 63\n",
            "9 x 8 = 72\n",
            "9 x 9 = 81\n",
            "9 x 10 = 90\n",
            "\n",
            "10 x 1 = 10\n",
            "10 x 2 = 20\n",
            "10 x 3 = 30\n",
            "10 x 4 = 40\n",
            "10 x 5 = 50\n",
            "10 x 6 = 60\n",
            "10 x 7 = 70\n",
            "10 x 8 = 80\n",
            "10 x 9 = 90\n",
            "10 x 10 = 100\n",
            "\n"
          ]
        }
      ]
    },
    {
      "cell_type": "code",
      "source": [
        "tablas_lambda = list(map(lambda i: list(map(lambda j: f\"{i} x {j} = {i * j}\", range(1, 11))), range(1, 11)))\n",
        "\n",
        "for tabla in tablas_lambda:\n",
        "    print(\"\\n\".join(tabla))\n",
        "    print()"
      ],
      "metadata": {
        "colab": {
          "base_uri": "https://localhost:8080/"
        },
        "id": "IG5GWZGcr0Sv",
        "outputId": "1aff5e03-535b-4566-a7af-4ac80455cf31"
      },
      "execution_count": null,
      "outputs": [
        {
          "output_type": "stream",
          "name": "stdout",
          "text": [
            "1 x 1 = 1\n",
            "1 x 2 = 2\n",
            "1 x 3 = 3\n",
            "1 x 4 = 4\n",
            "1 x 5 = 5\n",
            "1 x 6 = 6\n",
            "1 x 7 = 7\n",
            "1 x 8 = 8\n",
            "1 x 9 = 9\n",
            "1 x 10 = 10\n",
            "\n",
            "2 x 1 = 2\n",
            "2 x 2 = 4\n",
            "2 x 3 = 6\n",
            "2 x 4 = 8\n",
            "2 x 5 = 10\n",
            "2 x 6 = 12\n",
            "2 x 7 = 14\n",
            "2 x 8 = 16\n",
            "2 x 9 = 18\n",
            "2 x 10 = 20\n",
            "\n",
            "3 x 1 = 3\n",
            "3 x 2 = 6\n",
            "3 x 3 = 9\n",
            "3 x 4 = 12\n",
            "3 x 5 = 15\n",
            "3 x 6 = 18\n",
            "3 x 7 = 21\n",
            "3 x 8 = 24\n",
            "3 x 9 = 27\n",
            "3 x 10 = 30\n",
            "\n",
            "4 x 1 = 4\n",
            "4 x 2 = 8\n",
            "4 x 3 = 12\n",
            "4 x 4 = 16\n",
            "4 x 5 = 20\n",
            "4 x 6 = 24\n",
            "4 x 7 = 28\n",
            "4 x 8 = 32\n",
            "4 x 9 = 36\n",
            "4 x 10 = 40\n",
            "\n",
            "5 x 1 = 5\n",
            "5 x 2 = 10\n",
            "5 x 3 = 15\n",
            "5 x 4 = 20\n",
            "5 x 5 = 25\n",
            "5 x 6 = 30\n",
            "5 x 7 = 35\n",
            "5 x 8 = 40\n",
            "5 x 9 = 45\n",
            "5 x 10 = 50\n",
            "\n",
            "6 x 1 = 6\n",
            "6 x 2 = 12\n",
            "6 x 3 = 18\n",
            "6 x 4 = 24\n",
            "6 x 5 = 30\n",
            "6 x 6 = 36\n",
            "6 x 7 = 42\n",
            "6 x 8 = 48\n",
            "6 x 9 = 54\n",
            "6 x 10 = 60\n",
            "\n",
            "7 x 1 = 7\n",
            "7 x 2 = 14\n",
            "7 x 3 = 21\n",
            "7 x 4 = 28\n",
            "7 x 5 = 35\n",
            "7 x 6 = 42\n",
            "7 x 7 = 49\n",
            "7 x 8 = 56\n",
            "7 x 9 = 63\n",
            "7 x 10 = 70\n",
            "\n",
            "8 x 1 = 8\n",
            "8 x 2 = 16\n",
            "8 x 3 = 24\n",
            "8 x 4 = 32\n",
            "8 x 5 = 40\n",
            "8 x 6 = 48\n",
            "8 x 7 = 56\n",
            "8 x 8 = 64\n",
            "8 x 9 = 72\n",
            "8 x 10 = 80\n",
            "\n",
            "9 x 1 = 9\n",
            "9 x 2 = 18\n",
            "9 x 3 = 27\n",
            "9 x 4 = 36\n",
            "9 x 5 = 45\n",
            "9 x 6 = 54\n",
            "9 x 7 = 63\n",
            "9 x 8 = 72\n",
            "9 x 9 = 81\n",
            "9 x 10 = 90\n",
            "\n",
            "10 x 1 = 10\n",
            "10 x 2 = 20\n",
            "10 x 3 = 30\n",
            "10 x 4 = 40\n",
            "10 x 5 = 50\n",
            "10 x 6 = 60\n",
            "10 x 7 = 70\n",
            "10 x 8 = 80\n",
            "10 x 9 = 90\n",
            "10 x 10 = 100\n",
            "\n"
          ]
        }
      ]
    },
    {
      "cell_type": "markdown",
      "source": [
        "EJERCICIO 27:Desarrolla un programa que encuentre todos los números perfectos hasta n."
      ],
      "metadata": {
        "id": "lQPSUur9r0pH"
      }
    },
    {
      "cell_type": "code",
      "source": [
        "n = int(input(\"Ingrese un número: \"))\n",
        "\n",
        "numeros_perfectos = [i for i in range(1, n + 1) if sum(j for j in range(1, i) if i % j == 0) == i]\n",
        "\n",
        "print(\"Números perfectos hasta\", n, \":\", numeros_perfectos)"
      ],
      "metadata": {
        "colab": {
          "base_uri": "https://localhost:8080/"
        },
        "id": "rvHhSK9Kr3f3",
        "outputId": "b8e95f18-18b9-426c-afa7-d10fb45cc934"
      },
      "execution_count": null,
      "outputs": [
        {
          "output_type": "stream",
          "name": "stdout",
          "text": [
            "Ingrese un número: 9\n",
            "Números perfectos hasta 9 : [6]\n"
          ]
        }
      ]
    },
    {
      "cell_type": "code",
      "source": [
        "n = int(input(\"Ingrese un número: \"))\n",
        "\n",
        "es_perfecto = lambda x: sum(filter(lambda j: x % j == 0, range(1, x))) == x\n",
        "numeros_perfectos_lambda = list(filter(es_perfecto, range(1, n + 1)))\n",
        "\n",
        "print(\"Números perfectos hasta\", n, \":\", numeros_perfectos_lambda)"
      ],
      "metadata": {
        "colab": {
          "base_uri": "https://localhost:8080/"
        },
        "id": "U-ykFBKLr30P",
        "outputId": "58e90135-399d-43ad-cb0f-fcbb14ef781a"
      },
      "execution_count": null,
      "outputs": [
        {
          "output_type": "stream",
          "name": "stdout",
          "text": [
            "Ingrese un número: 7\n",
            "Números perfectos hasta 7 : [6]\n"
          ]
        }
      ]
    },
    {
      "cell_type": "markdown",
      "source": [
        "EJERCICIO 28: Crea un programa que genere un patrón de diamante con asteriscos."
      ],
      "metadata": {
        "id": "Q0g8aNGWsTWm"
      }
    },
    {
      "cell_type": "code",
      "source": [
        "n = int(input(\"Ingrese el número de filas (mitad del diamante): \"))\n",
        "\n",
        "# Parte superior\n",
        "diamante = [\" \" * (n - i) + \"*\" * (2 * i - 1) for i in range(1, n + 1)]\n",
        "# Parte inferior\n",
        "diamante += [\" \" * (n - i) + \"*\" * (2 * i - 1) for i in range(n - 1, 0, -1)]\n",
        "\n",
        "print(\"\\n\".join(diamante))"
      ],
      "metadata": {
        "colab": {
          "base_uri": "https://localhost:8080/"
        },
        "id": "7VYkVZOasY2u",
        "outputId": "fd3c8d12-de12-4ba2-dad7-7b49ff940edb"
      },
      "execution_count": null,
      "outputs": [
        {
          "output_type": "stream",
          "name": "stdout",
          "text": [
            "Ingrese el número de filas (mitad del diamante): 9\n",
            "        *\n",
            "       ***\n",
            "      *****\n",
            "     *******\n",
            "    *********\n",
            "   ***********\n",
            "  *************\n",
            " ***************\n",
            "*****************\n",
            " ***************\n",
            "  *************\n",
            "   ***********\n",
            "    *********\n",
            "     *******\n",
            "      *****\n",
            "       ***\n",
            "        *\n"
          ]
        }
      ]
    },
    {
      "cell_type": "code",
      "source": [
        "n = int(input(\"Ingrese el número de filas (mitad del diamante): \"))\n",
        "\n",
        "generar_fila = lambda i: \" \" * (n - i) + \"*\" * (2 * i - 1)\n",
        "\n",
        "parte_superior = list(map(generar_fila, range(1, n + 1)))\n",
        "parte_inferior = list(map(generar_fila, range(n - 1, 0, -1)))\n",
        "\n",
        "diamante_lambda = parte_superior + parte_inferior\n",
        "\n",
        "print(\"\\n\".join(diamante_lambda))"
      ],
      "metadata": {
        "colab": {
          "base_uri": "https://localhost:8080/"
        },
        "id": "5BpfbKw_sZAP",
        "outputId": "dc7eb15e-0ac8-45f9-bec7-759d69488674"
      },
      "execution_count": null,
      "outputs": [
        {
          "output_type": "stream",
          "name": "stdout",
          "text": [
            "Ingrese el número de filas (mitad del diamante): 7\n",
            "      *\n",
            "     ***\n",
            "    *****\n",
            "   *******\n",
            "  *********\n",
            " ***********\n",
            "*************\n",
            " ***********\n",
            "  *********\n",
            "   *******\n",
            "    *****\n",
            "     ***\n",
            "      *\n"
          ]
        }
      ]
    },
    {
      "cell_type": "markdown",
      "source": [
        "EJERCICIO 29: Escribe un programa que encuentre todos los números Armstrong hasta n."
      ],
      "metadata": {
        "id": "jkxSbKQDsceu"
      }
    },
    {
      "cell_type": "code",
      "source": [
        "n = int(input(\"Ingrese un número: \"))\n",
        "\n",
        "numeros_armstrong = [i for i in range(1, n + 1) if sum(int(d)**len(str(i)) for d in str(i)) == i]\n",
        "\n",
        "print(\"Números de Armstrong hasta\", n, \":\", numeros_armstrong)"
      ],
      "metadata": {
        "colab": {
          "base_uri": "https://localhost:8080/"
        },
        "id": "i6Dt6bN4sqG-",
        "outputId": "49d82173-6902-476e-801d-7d683265099a"
      },
      "execution_count": null,
      "outputs": [
        {
          "output_type": "stream",
          "name": "stdout",
          "text": [
            "Ingrese un número: 8\n",
            "Números de Armstrong hasta 8 : [1, 2, 3, 4, 5, 6, 7, 8]\n"
          ]
        }
      ]
    },
    {
      "cell_type": "code",
      "source": [
        "n = int(input(\"Ingrese un número: \"))\n",
        "\n",
        "es_armstrong = lambda x: sum(map(lambda d: int(d) ** len(str(x)), str(x))) == x\n",
        "numeros_armstrong_lambda = list(filter(es_armstrong, range(1, n + 1)))\n",
        "\n",
        "print(\"Números de Armstrong hasta\", n, \":\", numeros_armstrong_lambda)"
      ],
      "metadata": {
        "colab": {
          "base_uri": "https://localhost:8080/"
        },
        "id": "h1Nfa_IpsqZW",
        "outputId": "19a2a76f-49de-4f6e-b013-d0919e0f5b08"
      },
      "execution_count": null,
      "outputs": [
        {
          "output_type": "stream",
          "name": "stdout",
          "text": [
            "Ingrese un número: 7\n",
            "Números de Armstrong hasta 7 : [1, 2, 3, 4, 5, 6, 7]\n"
          ]
        }
      ]
    },
    {
      "cell_type": "markdown",
      "source": [
        "EJERCICIO 30: Desarrolla un programa que simule un reloj digital mostrando horas, minutos y segundos durante un período específico."
      ],
      "metadata": {
        "id": "wOkAqskBs6Me"
      }
    },
    {
      "cell_type": "code",
      "source": [
        "import time\n",
        "\n",
        "horas = int(input(\"Ingrese la cantidad de horas a simular: \"))\n",
        "minutos = int(input(\"Ingrese la cantidad de minutos a simular: \"))\n",
        "segundos = int(input(\"Ingrese la cantidad de segundos a simular: \"))\n",
        "\n",
        "for h in range(horas + 1):\n",
        "    for m in range(minutos + 1):\n",
        "        for s in range(segundos + 1):\n",
        "            print(f\"{h:02d}:{m:02d}:{s:02d}\")\n",
        "            time.sleep(1)"
      ],
      "metadata": {
        "colab": {
          "base_uri": "https://localhost:8080/",
          "height": 888
        },
        "collapsed": true,
        "id": "QV0aPQENs-F2",
        "outputId": "d169a3e8-0161-43d0-e11c-c0fe161411df"
      },
      "execution_count": null,
      "outputs": [
        {
          "output_type": "stream",
          "name": "stdout",
          "text": [
            "Ingrese la cantidad de horas a simular: 1\n",
            "Ingrese la cantidad de minutos a simular: 2\n",
            "Ingrese la cantidad de segundos a simular: 15\n",
            "00:00:00\n",
            "00:00:01\n",
            "00:00:02\n",
            "00:00:03\n",
            "00:00:04\n",
            "00:00:05\n",
            "00:00:06\n",
            "00:00:07\n",
            "00:00:08\n",
            "00:00:09\n",
            "00:00:10\n",
            "00:00:11\n",
            "00:00:12\n",
            "00:00:13\n",
            "00:00:14\n",
            "00:00:15\n",
            "00:01:00\n",
            "00:01:01\n",
            "00:01:02\n",
            "00:01:03\n",
            "00:01:04\n",
            "00:01:05\n",
            "00:01:06\n",
            "00:01:07\n",
            "00:01:08\n",
            "00:01:09\n",
            "00:01:10\n",
            "00:01:11\n",
            "00:01:12\n",
            "00:01:13\n",
            "00:01:14\n",
            "00:01:15\n",
            "00:02:00\n",
            "00:02:01\n",
            "00:02:02\n",
            "00:02:03\n",
            "00:02:04\n",
            "00:02:05\n"
          ]
        },
        {
          "output_type": "error",
          "ename": "KeyboardInterrupt",
          "evalue": "",
          "traceback": [
            "\u001b[0;31m---------------------------------------------------------------------------\u001b[0m",
            "\u001b[0;31mKeyboardInterrupt\u001b[0m                         Traceback (most recent call last)",
            "\u001b[0;32m<ipython-input-46-36915f96eb4f>\u001b[0m in \u001b[0;36m<cell line: 0>\u001b[0;34m()\u001b[0m\n\u001b[1;32m      9\u001b[0m         \u001b[0;32mfor\u001b[0m \u001b[0ms\u001b[0m \u001b[0;32min\u001b[0m \u001b[0mrange\u001b[0m\u001b[0;34m(\u001b[0m\u001b[0msegundos\u001b[0m \u001b[0;34m+\u001b[0m \u001b[0;36m1\u001b[0m\u001b[0;34m)\u001b[0m\u001b[0;34m:\u001b[0m\u001b[0;34m\u001b[0m\u001b[0;34m\u001b[0m\u001b[0m\n\u001b[1;32m     10\u001b[0m             \u001b[0mprint\u001b[0m\u001b[0;34m(\u001b[0m\u001b[0;34mf\"{h:02d}:{m:02d}:{s:02d}\"\u001b[0m\u001b[0;34m)\u001b[0m\u001b[0;34m\u001b[0m\u001b[0;34m\u001b[0m\u001b[0m\n\u001b[0;32m---> 11\u001b[0;31m             \u001b[0mtime\u001b[0m\u001b[0;34m.\u001b[0m\u001b[0msleep\u001b[0m\u001b[0;34m(\u001b[0m\u001b[0;36m1\u001b[0m\u001b[0;34m)\u001b[0m\u001b[0;34m\u001b[0m\u001b[0;34m\u001b[0m\u001b[0m\n\u001b[0m",
            "\u001b[0;31mKeyboardInterrupt\u001b[0m: "
          ]
        }
      ]
    },
    {
      "cell_type": "code",
      "source": [
        "import time\n",
        "from itertools import product\n",
        "\n",
        "horas = int(input(\"Ingrese la cantidad de horas a simular: \"))\n",
        "minutos = int(input(\"Ingrese la cantidad de minutos a simular: \"))\n",
        "segundos = int(input(\"Ingrese la cantidad de segundos a simular: \"))\n",
        "\n",
        "formato_hora = lambda h, m, s: f\"{h:02d}:{m:02d}:{s:02d}\"\n",
        "reloj_lambda = map(lambda t: formato_hora(*t), product(range(horas + 1), range(minutos + 1), range(segundos + 1)))\n",
        "\n",
        "for hora in reloj_lambda:\n",
        "    print(hora)\n",
        "    time.sleep(1)\n"
      ],
      "metadata": {
        "colab": {
          "base_uri": "https://localhost:8080/",
          "height": 662
        },
        "collapsed": true,
        "id": "b-XbM3qJs-VG",
        "outputId": "48feb1fc-d7e2-4404-af92-e7fd333b26a5"
      },
      "execution_count": null,
      "outputs": [
        {
          "output_type": "stream",
          "name": "stdout",
          "text": [
            "Ingrese la cantidad de horas a simular: 1\n",
            "Ingrese la cantidad de minutos a simular: 4\n",
            "Ingrese la cantidad de segundos a simular: 5\n",
            "00:00:00\n",
            "00:00:01\n",
            "00:00:02\n",
            "00:00:03\n",
            "00:00:04\n",
            "00:00:05\n",
            "00:01:00\n",
            "00:01:01\n",
            "00:01:02\n",
            "00:01:03\n",
            "00:01:04\n",
            "00:01:05\n",
            "00:02:00\n",
            "00:02:01\n",
            "00:02:02\n",
            "00:02:03\n",
            "00:02:04\n",
            "00:02:05\n",
            "00:03:00\n",
            "00:03:01\n",
            "00:03:02\n",
            "00:03:03\n",
            "00:03:04\n",
            "00:03:05\n",
            "00:04:00\n"
          ]
        },
        {
          "output_type": "error",
          "ename": "KeyboardInterrupt",
          "evalue": "",
          "traceback": [
            "\u001b[0;31m---------------------------------------------------------------------------\u001b[0m",
            "\u001b[0;31mKeyboardInterrupt\u001b[0m                         Traceback (most recent call last)",
            "\u001b[0;32m<ipython-input-50-19806fe60420>\u001b[0m in \u001b[0;36m<cell line: 0>\u001b[0;34m()\u001b[0m\n\u001b[1;32m     11\u001b[0m \u001b[0;32mfor\u001b[0m \u001b[0mhora\u001b[0m \u001b[0;32min\u001b[0m \u001b[0mreloj_lambda\u001b[0m\u001b[0;34m:\u001b[0m\u001b[0;34m\u001b[0m\u001b[0;34m\u001b[0m\u001b[0m\n\u001b[1;32m     12\u001b[0m     \u001b[0mprint\u001b[0m\u001b[0;34m(\u001b[0m\u001b[0mhora\u001b[0m\u001b[0;34m)\u001b[0m\u001b[0;34m\u001b[0m\u001b[0;34m\u001b[0m\u001b[0m\n\u001b[0;32m---> 13\u001b[0;31m     \u001b[0mtime\u001b[0m\u001b[0;34m.\u001b[0m\u001b[0msleep\u001b[0m\u001b[0;34m(\u001b[0m\u001b[0;36m1\u001b[0m\u001b[0;34m)\u001b[0m\u001b[0;34m\u001b[0m\u001b[0;34m\u001b[0m\u001b[0m\n\u001b[0m",
            "\u001b[0;31mKeyboardInterrupt\u001b[0m: "
          ]
        }
      ]
    }
  ]
}