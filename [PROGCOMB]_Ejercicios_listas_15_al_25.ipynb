{
  "nbformat": 4,
  "nbformat_minor": 0,
  "metadata": {
    "colab": {
      "provenance": []
    },
    "kernelspec": {
      "name": "python3",
      "display_name": "Python 3"
    },
    "language_info": {
      "name": "python"
    }
  },
  "cells": [
    {
      "cell_type": "markdown",
      "source": [
        "Ejercicio 15: Desarrolla un programa que valide si tres números pueden formar un triángulo y de qué tipo es."
      ],
      "metadata": {
        "id": "KTIOztLvz-bb"
      }
    },
    {
      "cell_type": "code",
      "execution_count": 3,
      "metadata": {
        "colab": {
          "base_uri": "https://localhost:8080/"
        },
        "id": "Kb3f-vKqzyB1",
        "outputId": "42458334-41bf-4bbe-af1d-41cd8d6168a2"
      },
      "outputs": [
        {
          "output_type": "stream",
          "name": "stdout",
          "text": [
            "Ingrese los tres lados del triángulo:\n",
            "Lado 1: 3\n",
            "Lado 2: 3\n",
            "Lado 3: 2\n",
            "Triángulo Isósceles\n"
          ]
        }
      ],
      "source": [
        "print(\"Ingrese los tres lados del triángulo:\")\n",
        "a = float(input(\"Lado 1: \"))\n",
        "b = float(input(\"Lado 2: \"))\n",
        "c = float(input(\"Lado 3: \"))\n",
        "\n",
        "if a <= 0 or b <= 0 or c <= 0:\n",
        "    print(\"No es un triángulo: los lados deben ser positivos\")\n",
        "elif (a + b > c) and (a + c > b) and (b + c > a):\n",
        "    if a == b == c:\n",
        "        print(\"Triángulo Equilátero\")\n",
        "    elif a == b or b == c or a == c:\n",
        "        print(\"Triángulo Isósceles\")\n",
        "    else:\n",
        "        print(\"Triángulo Escaleno\")\n",
        "else:\n",
        "    print(\"No es un triángulo: no cumple la condición de desigualdad triangular\")"
      ]
    },
    {
      "cell_type": "markdown",
      "source": [
        "Ejercicio 16: Crea un programa que muestre la tabla de multiplicar de un número hasta el 10."
      ],
      "metadata": {
        "id": "hs7x7awV0g_h"
      }
    },
    {
      "cell_type": "code",
      "source": [
        "numero = int(input(\"Ingrese un número para ver su tabla de multiplicar: \"))\n",
        "print(f\"\\nTabla de multiplicar del {numero}:\")\n",
        "print(\"-\" * 20)\n",
        "for i in range(1, 11):\n",
        "    resultado = numero * i\n",
        "    print(f\"{numero} × {i} = {resultado}\")"
      ],
      "metadata": {
        "colab": {
          "base_uri": "https://localhost:8080/"
        },
        "id": "z28W3L5C0mZi",
        "outputId": "0f2915ee-52c4-4441-9dde-57c87950a5e9"
      },
      "execution_count": 4,
      "outputs": [
        {
          "output_type": "stream",
          "name": "stdout",
          "text": [
            "Ingrese un número para ver su tabla de multiplicar: 8\n",
            "\n",
            "Tabla de multiplicar del 8:\n",
            "--------------------\n",
            "8 × 1 = 8\n",
            "8 × 2 = 16\n",
            "8 × 3 = 24\n",
            "8 × 4 = 32\n",
            "8 × 5 = 40\n",
            "8 × 6 = 48\n",
            "8 × 7 = 56\n",
            "8 × 8 = 64\n",
            "8 × 9 = 72\n",
            "8 × 10 = 80\n"
          ]
        }
      ]
    },
    {
      "cell_type": "markdown",
      "source": [
        "Ejercicio 17: Escribe un programa que calcule la suma de números naturales hasta n."
      ],
      "metadata": {
        "id": "tOAYhDOA3BJN"
      }
    },
    {
      "cell_type": "code",
      "source": [
        "n = int(input(\"Ingrese un número natural : \"))\n",
        "if n <= 0:\n",
        "    print(\"Por favor, ingrese un número natural positivo.\")\n",
        "else:\n",
        "    suma = 0\n",
        "    for i in range(1, n + 1):\n",
        "        suma += i\n",
        "    print(f\"Suma de números naturales hasta {n} (método for): {suma}\")\n",
        "    suma_formula = (n * (n + 1)) // 2\n",
        "    print(f\"Suma de números naturales hasta {n} (método fórmula): {suma_formula}\")"
      ],
      "metadata": {
        "colab": {
          "base_uri": "https://localhost:8080/"
        },
        "id": "Myqh8MG43ZD3",
        "outputId": "eb2538ef-4207-4fd9-ab34-481d87e865ac"
      },
      "execution_count": 7,
      "outputs": [
        {
          "output_type": "stream",
          "name": "stdout",
          "text": [
            "Ingrese un número natural : 3\n",
            "Suma de números naturales hasta 3 (método for): 6\n",
            "Suma de números naturales hasta 3 (método fórmula): 6\n"
          ]
        }
      ]
    },
    {
      "cell_type": "markdown",
      "source": [
        "Ejercicio 18: Desarrolla un programa que calcule el factorial de un número. Recuerda que el factorial de 0 es 1 y no existen factoriales negativos."
      ],
      "metadata": {
        "id": "0cIa2GDI4F5r"
      }
    },
    {
      "cell_type": "code",
      "source": [
        "numero = int(input(\"Ingrese un número para calcular su factorial: \"))\n",
        "if numero < 0:\n",
        "    print(\"Error: No se puede calcular factorial de números negativos.\")\n",
        "else:\n",
        "    factorial = 1\n",
        "    for i in range(1, numero + 1):\n",
        "        factorial *= i\n",
        "    if numero == 0:\n",
        "        factorial = 1\n",
        "    print(f\"El factorial de {numero} es: {factorial}\")"
      ],
      "metadata": {
        "colab": {
          "base_uri": "https://localhost:8080/"
        },
        "id": "YqfWywjy4Bvl",
        "outputId": "ac040115-2ce9-4f02-8b2f-c50fbc5f2b5b"
      },
      "execution_count": 8,
      "outputs": [
        {
          "output_type": "stream",
          "name": "stdout",
          "text": [
            "Ingrese un número para calcular su factorial: 8\n",
            "El factorial de 8 es: 40320\n"
          ]
        }
      ]
    },
    {
      "cell_type": "markdown",
      "source": [
        "Ejercicio 19: Crea un programa que muestre los primeros n números de la serie Fibonacci."
      ],
      "metadata": {
        "id": "z4DJYBt94VJy"
      }
    },
    {
      "cell_type": "code",
      "source": [
        "n = int(input(\"¿Cuántos números de Fibonacci quieres ver? \"))\n",
        "a, b = 0, 1\n",
        "print(\"\\nSerie Fibonacci:\")\n",
        "for i in range(n):\n",
        "    print(a, end=\" \")\n",
        "    a, b = b, a + b"
      ],
      "metadata": {
        "colab": {
          "base_uri": "https://localhost:8080/"
        },
        "id": "6YEOzPBI4f2e",
        "outputId": "be131298-645b-4035-e0d0-74662b2d7e32"
      },
      "execution_count": 9,
      "outputs": [
        {
          "output_type": "stream",
          "name": "stdout",
          "text": [
            "¿Cuántos números de Fibonacci quieres ver? 7\n",
            "\n",
            "Serie Fibonacci:\n",
            "0 1 1 2 3 5 8 "
          ]
        }
      ]
    },
    {
      "cell_type": "markdown",
      "source": [
        "Ejericio 20: Escribe un programa que adivine entre un conjunto de diez colores definidos por el usuario, con un máximo de 10 intentos."
      ],
      "metadata": {
        "id": "7xF3joe542fc"
      }
    },
    {
      "cell_type": "code",
      "source": [
        "import random\n",
        "colores = []\n",
        "print(\"Ingrese 10 colores:\")\n",
        "for i in range(10):\n",
        "    color = input(f\"Color {i+1}: \").lower()\n",
        "    colores.append(color)\n",
        "color_secreto = random.choice(colores)\n",
        "intentos = 0\n",
        "max_intentos = 10\n",
        "\n",
        "print(\"\\n¡Juego de adivinar color!\")\n",
        "while intentos < max_intentos:\n",
        "    intento = input(\"Adivine un color: \").lower()\n",
        "    intentos += 1\n",
        "    if intento == color_secreto:\n",
        "        print(f\"¡Felicidades! Adivinaste en {intentos} intentos.\")\n",
        "        break\n",
        "    else:\n",
        "        print(f\"Intento {intentos}. Ese no es el color correcto.\")\n",
        "\n",
        "if intentos == max_intentos:\n",
        "    print(f\"\\nSe acabaron los intentos. El color era: {color_secreto}\")"
      ],
      "metadata": {
        "colab": {
          "base_uri": "https://localhost:8080/"
        },
        "id": "WMU3CU1-46KC",
        "outputId": "f31a1ecc-371a-4672-d063-6c1bc6fd9d68"
      },
      "execution_count": 10,
      "outputs": [
        {
          "output_type": "stream",
          "name": "stdout",
          "text": [
            "Ingrese 10 colores:\n",
            "Color 1: Verde\n",
            "Color 2: Azul\n",
            "Color 3: Rojo\n",
            "Color 4: Rosado\n",
            "Color 5: Negro \n",
            "Color 6: Blanco \n",
            "Color 7: Cafe\n",
            "Color 8: Lila\n",
            "Color 9: Naranja\n",
            "Color 10: Amarillo\n",
            "\n",
            "¡Juego de adivinar color!\n",
            "Adivine un color: Verde\n",
            "Intento 1. Ese no es el color correcto.\n",
            "Adivine un color: Azul\n",
            "¡Felicidades! Adivinaste en 2 intentos.\n"
          ]
        }
      ]
    },
    {
      "cell_type": "markdown",
      "source": [
        "Ejercicio 21: Desarrolla un programa que muestre los números pares del 1 al 100."
      ],
      "metadata": {
        "id": "HYQyNbV45Okg"
      }
    },
    {
      "cell_type": "code",
      "source": [
        "print(\"Números pares del 1 al 100:\")\n",
        "for numero in range(2, 101, 2):\n",
        "    print(numero, end=\" \")"
      ],
      "metadata": {
        "colab": {
          "base_uri": "https://localhost:8080/"
        },
        "id": "BWwltv_h5SVk",
        "outputId": "7bdaa1ac-260d-447a-8679-d76d1ed35f18"
      },
      "execution_count": 11,
      "outputs": [
        {
          "output_type": "stream",
          "name": "stdout",
          "text": [
            "Números pares del 1 al 100:\n",
            "2 4 6 8 10 12 14 16 18 20 22 24 26 28 30 32 34 36 38 40 42 44 46 48 50 52 54 56 58 60 62 64 66 68 70 72 74 76 78 80 82 84 86 88 90 92 94 96 98 100 "
          ]
        }
      ]
    },
    {
      "cell_type": "markdown",
      "source": [
        "Ejercicio 22: Crea un programa que calcule la suma de los dígitos de un número."
      ],
      "metadata": {
        "id": "_cpKyeqw5a-2"
      }
    },
    {
      "cell_type": "code",
      "source": [
        "numero = int(input(\"Ingrese un número: \"))\n",
        "numero_str = str(numero)\n",
        "suma_digitos = sum(int(digito) for digito in numero_str)\n",
        "print(f\"La suma de los dígitos de {numero} es: {suma_digitos}\")"
      ],
      "metadata": {
        "colab": {
          "base_uri": "https://localhost:8080/"
        },
        "id": "PJHVkrya5fOo",
        "outputId": "425a0ec2-2191-4e70-d38d-113f52be722b"
      },
      "execution_count": 12,
      "outputs": [
        {
          "output_type": "stream",
          "name": "stdout",
          "text": [
            "Ingrese un número: 78\n",
            "La suma de los dígitos de 78 es: 15\n"
          ]
        }
      ]
    },
    {
      "cell_type": "markdown",
      "source": [
        "Ejercicio 23: Escribe un programa que determine si un número es primo."
      ],
      "metadata": {
        "id": "9vYQKnM556NS"
      }
    },
    {
      "cell_type": "code",
      "source": [
        "numero = int(input(\"Ingrese un número: \"))\n",
        "def es_primo(n):\n",
        "    if n <= 1:\n",
        "        return False\n",
        "    for i in range(2, int(n**0.5) + 1):\n",
        "        if n % i == 0:\n",
        "            return False\n",
        "\n",
        "    return True\n",
        "if es_primo(numero):\n",
        "    print(f\"{numero} es un número primo.\")\n",
        "else:\n",
        "    print(f\"{numero} NO es un número primo.\")"
      ],
      "metadata": {
        "colab": {
          "base_uri": "https://localhost:8080/"
        },
        "id": "H1eZfq0z591v",
        "outputId": "b9ff4434-0fc4-4f78-fb93-173ae78d9980"
      },
      "execution_count": 13,
      "outputs": [
        {
          "output_type": "stream",
          "name": "stdout",
          "text": [
            "Ingrese un número: 45\n",
            "45 NO es un número primo.\n"
          ]
        }
      ]
    },
    {
      "cell_type": "markdown",
      "source": [
        "Ejercicio 24: Desarrolla un programa que muestre el patrón de un triángulo con asteriscos."
      ],
      "metadata": {
        "id": "stvQm0Dh6ILv"
      }
    },
    {
      "cell_type": "code",
      "source": [
        "altura = int(input(\"Ingrese la altura del triángulo: \"))\n",
        "for i in range(1, altura + 1):\n",
        "    print(\"*\" * i)"
      ],
      "metadata": {
        "colab": {
          "base_uri": "https://localhost:8080/"
        },
        "id": "GxDxkekN6OUn",
        "outputId": "8495cf73-0742-4bd6-f4f6-74250e1a5376"
      },
      "execution_count": 14,
      "outputs": [
        {
          "output_type": "stream",
          "name": "stdout",
          "text": [
            "Ingrese la altura del triángulo: 8\n",
            "*\n",
            "**\n",
            "***\n",
            "****\n",
            "*****\n",
            "******\n",
            "*******\n",
            "********\n"
          ]
        }
      ]
    },
    {
      "cell_type": "markdown",
      "source": [
        "Ejercicio 25: Crea un programa que calcule la potencia de un número sin usar el operador"
      ],
      "metadata": {
        "id": "x25vkDTt6Yud"
      }
    },
    {
      "cell_type": "code",
      "source": [
        "base = int(input(\"Ingrese la base: \"))\n",
        "exponente = int(input(\"Ingrese el exponente: \"))\n",
        "potencia = 1\n",
        "for _ in range(exponente):\n",
        "    potencia *= base\n",
        "\n",
        "print(f\"{base} elevado a {exponente} es: {potencia}\")"
      ],
      "metadata": {
        "colab": {
          "base_uri": "https://localhost:8080/"
        },
        "id": "cJCtbvRC6ciW",
        "outputId": "90dd99ad-8dc1-4b82-a9e4-2b29472617e3"
      },
      "execution_count": 15,
      "outputs": [
        {
          "output_type": "stream",
          "name": "stdout",
          "text": [
            "Ingrese la base: 8\n",
            "Ingrese el exponente: 7\n",
            "8 elevado a 7 es: 2097152\n"
          ]
        }
      ]
    }
  ]
}