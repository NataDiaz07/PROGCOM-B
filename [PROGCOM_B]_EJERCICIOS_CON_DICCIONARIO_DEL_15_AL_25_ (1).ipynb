{
  "nbformat": 4,
  "nbformat_minor": 0,
  "metadata": {
    "colab": {
      "provenance": []
    },
    "kernelspec": {
      "name": "python3",
      "display_name": "Python 3"
    },
    "language_info": {
      "name": "python"
    }
  },
  "cells": [
    {
      "cell_type": "markdown",
      "source": [
        "**NATALIA PALOMINO DIAZ U00182178**"
      ],
      "metadata": {
        "id": "ezaWEo3wobUJ"
      }
    },
    {
      "cell_type": "markdown",
      "source": [
        "\n",
        "Ejercicio 15: Desarrolla un programa que valide si tres números pueden formar un triángulo y de qué tipo es"
      ],
      "metadata": {
        "id": "4U_GyE8Ve1mx"
      }
    },
    {
      "cell_type": "code",
      "source": [
        "def es_triangulo(lados):\n",
        "    if lados['a'] + lados['b'] > lados['c'] and lados['a'] + lados['c'] > lados['b'] and lados['b'] + lados['c'] > lados['a']:\n",
        "        return True\n",
        "    return False\n",
        "\n",
        "def tipo_triangulo(lados):\n",
        "    if not es_triangulo(lados):\n",
        "        return \"No es un triángulo válido\"\n",
        "    if lados['a'] == lados['b'] == lados['c']:\n",
        "        return \"Equilátero\"\n",
        "    elif lados['a'] == lados['b'] or lados['b'] == lados['c'] or lados['a'] == lados['c']:\n",
        "        return \"Isósceles\"\n",
        "    else:\n",
        "        return \"Escaleno\"\n",
        "\n",
        "lados = {\n",
        "    'a': float(input(\"Ingrese el primer lado del triángulo: \")),\n",
        "    'b': float(input(\"Ingrese el segundo lado del triángulo: \")),\n",
        "    'c': float(input(\"Ingrese el tercer lado del triángulo: \"))\n",
        "}\n",
        "print(tipo_triangulo(lados))"
      ],
      "metadata": {
        "colab": {
          "base_uri": "https://localhost:8080/"
        },
        "id": "7pnbIDtXf38X",
        "outputId": "59eff07d-9337-4d3d-82cb-2db7514f9010"
      },
      "execution_count": 16,
      "outputs": [
        {
          "output_type": "stream",
          "name": "stdout",
          "text": [
            "Ingrese el primer lado del triángulo: 8\n",
            "Ingrese el segundo lado del triángulo: 5\n",
            "Ingrese el tercer lado del triángulo: 8\n",
            "Isósceles\n"
          ]
        }
      ]
    },
    {
      "cell_type": "markdown",
      "source": [
        "Ejercicio 16: Crea un programa que muestre la tabla de multiplicar de un número hasta el 10."
      ],
      "metadata": {
        "id": "L8gXcwBBf4K9"
      }
    },
    {
      "cell_type": "code",
      "source": [
        "def tabla_multiplicar(numero):\n",
        "    tabla = {}\n",
        "    for i in range(1, 11):\n",
        "        tabla[i] = numero * i\n",
        "    for i in range(1, 11):\n",
        "        print(f\"{numero} x {i} = {tabla[i]}\")\n",
        "numero = int(input(\"Ingrese un número para mostrar su tabla de multiplicar: \"))\n",
        "tabla_multiplicar(numero)"
      ],
      "metadata": {
        "colab": {
          "base_uri": "https://localhost:8080/"
        },
        "id": "95HnME53f6Il",
        "outputId": "51569698-c815-4b54-ee05-47dea5de490a"
      },
      "execution_count": 3,
      "outputs": [
        {
          "output_type": "stream",
          "name": "stdout",
          "text": [
            "Ingrese un número para mostrar su tabla de multiplicar: 8\n",
            "8 x 1 = 8\n",
            "8 x 2 = 16\n",
            "8 x 3 = 24\n",
            "8 x 4 = 32\n",
            "8 x 5 = 40\n",
            "8 x 6 = 48\n",
            "8 x 7 = 56\n",
            "8 x 8 = 64\n",
            "8 x 9 = 72\n",
            "8 x 10 = 80\n"
          ]
        }
      ]
    },
    {
      "cell_type": "markdown",
      "source": [
        "Ejercicio 17: Escribe un programa que calcule la suma de números naturales hasta n."
      ],
      "metadata": {
        "id": "GWtUk_sSf6m-"
      }
    },
    {
      "cell_type": "code",
      "source": [
        "def suma_naturales(n):\n",
        "    suma = {}\n",
        "    total = 0\n",
        "    for i in range(1, n + 1):\n",
        "        total += i\n",
        "        suma[i] = total\n",
        "    return suma[n]\n",
        "n = int(input(\"Ingrese un número para calcular la suma de números naturales hasta él: \"))\n",
        "resultado = suma_naturales(n)\n",
        "print(f\"La suma de los números naturales hasta {n} es: {resultado}\")"
      ],
      "metadata": {
        "colab": {
          "base_uri": "https://localhost:8080/"
        },
        "id": "iqnRSRx-f8f6",
        "outputId": "1a9f1bf7-d89f-4708-c5bc-901b3bbd4b1f"
      },
      "execution_count": 5,
      "outputs": [
        {
          "output_type": "stream",
          "name": "stdout",
          "text": [
            "Ingrese un número para calcular la suma de números naturales hasta él: 8\n",
            "La suma de los números naturales hasta 8 es: 36\n"
          ]
        }
      ]
    },
    {
      "cell_type": "markdown",
      "source": [
        "Ejercicio 18: Desarrolla un programa que calcule el factorial de un número. Recuerda que el factorial de 0 es 1 y no existen factoriales negativos."
      ],
      "metadata": {
        "id": "JusLShOyf-q3"
      }
    },
    {
      "cell_type": "code",
      "source": [
        "def factorial(n):\n",
        "    resultado = {}\n",
        "    fact = 1\n",
        "    for i in range(1, n + 1):\n",
        "        fact *= i\n",
        "        resultado[i] = fact\n",
        "    return resultado[n] if n >= 0 else \"El factorial de números negativos no existe\"\n",
        "n = int(input(\"Ingrese un número para calcular su factorial: \"))\n",
        "print(f\"El factorial de {n} es: {factorial(n)}\")"
      ],
      "metadata": {
        "colab": {
          "base_uri": "https://localhost:8080/"
        },
        "id": "EGQQYjHwf_Lv",
        "outputId": "fef2a572-cfa9-4957-d4a5-0193e80cbe34"
      },
      "execution_count": 7,
      "outputs": [
        {
          "output_type": "stream",
          "name": "stdout",
          "text": [
            "Ingrese un número para calcular su factorial: 8\n",
            "El factorial de 8 es: 40320\n"
          ]
        }
      ]
    },
    {
      "cell_type": "markdown",
      "source": [
        "Ejercicio 19: Crea un programa que muestre los primeros n números de la serie Fibonacci."
      ],
      "metadata": {
        "id": "mewCqF8HgAdN"
      }
    },
    {
      "cell_type": "code",
      "source": [
        "def fibonacci(n):\n",
        "    fibo = {0: 0, 1: 1}\n",
        "    for i in range(2, n):\n",
        "        fibo[i] = fibo[i - 1] + fibo[i - 2]\n",
        "    return fibo\n",
        "n = int(input(\"Ingrese cuántos números de la serie Fibonacci desea mostrar: \"))\n",
        "resultado = fibonacci(n)\n",
        "print(\"Serie Fibonacci hasta el término\", n, \":\", list(resultado.values()))"
      ],
      "metadata": {
        "colab": {
          "base_uri": "https://localhost:8080/"
        },
        "id": "6H5gP69GgD9G",
        "outputId": "162d154a-0734-402c-d9af-ccd3bba8737a"
      },
      "execution_count": 8,
      "outputs": [
        {
          "output_type": "stream",
          "name": "stdout",
          "text": [
            "Ingrese cuántos números de la serie Fibonacci desea mostrar: 8\n",
            "Serie Fibonacci hasta el término 8 : [0, 1, 1, 2, 3, 5, 8, 13]\n"
          ]
        }
      ]
    },
    {
      "cell_type": "markdown",
      "source": [
        "Ejericio 20: Escribe un programa que adivine entre un conjunto de diez colores definidos por el usuario, con un máximo de 10 intentos."
      ],
      "metadata": {
        "id": "hlXOx2RogEnN"
      }
    },
    {
      "cell_type": "code",
      "source": [
        "import random\n",
        "def adivina_color(colores):\n",
        "    color_correcto = random.choice(colores)\n",
        "    intentos = {}\n",
        "    for intento in range(1, 11):\n",
        "        color = input(f\"Intento {intento}/10 - Adivina el color: \")\n",
        "        intentos[intento] = color\n",
        "        if color == color_correcto:\n",
        "            return f\"¡Adivinaste el color! El color era {color_correcto}.\"\n",
        "    return f\"Lo siento, no adivinaste. El color correcto era {color_correcto}.\"\n",
        "colores = [input(f\"Ingrese el color {i+1}: \") for i in range(10)]\n",
        "print(adivina_color(colores))"
      ],
      "metadata": {
        "colab": {
          "base_uri": "https://localhost:8080/"
        },
        "id": "aeRQAnI-gGjH",
        "outputId": "52efbfaf-62ed-4084-a9fe-7e3d608ff88f"
      },
      "execution_count": 10,
      "outputs": [
        {
          "output_type": "stream",
          "name": "stdout",
          "text": [
            "Ingrese el color 1: Verde\n",
            "Ingrese el color 2: Azul\n",
            "Ingrese el color 3: Rojo\n",
            "Ingrese el color 4: Amarillo \n",
            "Ingrese el color 5: Negro \n",
            "Ingrese el color 6: Lila \n",
            "Ingrese el color 7: Negro \n",
            "Ingrese el color 8: Naranja \n",
            "Ingrese el color 9: Blanco \n",
            "Ingrese el color 10: Cafe\n",
            "Intento 1/10 - Adivina el color: Verde\n",
            "Intento 2/10 - Adivina el color: Azul\n",
            "Intento 3/10 - Adivina el color: Rojo\n",
            "Intento 4/10 - Adivina el color: Amarillo \n",
            "Intento 5/10 - Adivina el color: Negro \n",
            "Intento 6/10 - Adivina el color: Lila\n",
            "Intento 7/10 - Adivina el color: Cafe\n",
            "Intento 8/10 - Adivina el color: Naranja\n",
            "Intento 9/10 - Adivina el color: Negro\n",
            "Intento 10/10 - Adivina el color: Blanco \n",
            "¡Adivinaste el color! El color era Blanco .\n"
          ]
        }
      ]
    },
    {
      "cell_type": "markdown",
      "source": [
        "Ejercicio 21: Desarrolla un programa que muestre los números pares del 1 al 100."
      ],
      "metadata": {
        "id": "NDCbidjQgHB1"
      }
    },
    {
      "cell_type": "code",
      "source": [
        "def numeros_pares():\n",
        "    pares = {}\n",
        "    for i in range(2, 101, 2):\n",
        "        pares[i] = i\n",
        "    return pares\n",
        "resultado = numeros_pares()\n",
        "print(\"Números pares del 1 al 100:\", list(resultado.values()))"
      ],
      "metadata": {
        "colab": {
          "base_uri": "https://localhost:8080/"
        },
        "id": "kqj-6122gJjd",
        "outputId": "f3f0bd9a-bdae-452a-c565-10281e6242fa"
      },
      "execution_count": 11,
      "outputs": [
        {
          "output_type": "stream",
          "name": "stdout",
          "text": [
            "Números pares del 1 al 100: [2, 4, 6, 8, 10, 12, 14, 16, 18, 20, 22, 24, 26, 28, 30, 32, 34, 36, 38, 40, 42, 44, 46, 48, 50, 52, 54, 56, 58, 60, 62, 64, 66, 68, 70, 72, 74, 76, 78, 80, 82, 84, 86, 88, 90, 92, 94, 96, 98, 100]\n"
          ]
        }
      ]
    },
    {
      "cell_type": "markdown",
      "source": [
        "Ejercicio 22: Crea un programa que calcule la suma de los dígitos de un número."
      ],
      "metadata": {
        "id": "0i8-tePuiFUH"
      }
    },
    {
      "cell_type": "code",
      "source": [
        "def suma_digitos(n):\n",
        "    digitos = {i: int(str(n)[i]) for i in range(len(str(n)))}\n",
        "    suma = sum(digitos.values())\n",
        "    return suma\n",
        "n = int(input(\"Ingrese un número para calcular la suma de sus dígitos: \"))\n",
        "print(f\"La suma de los dígitos de {n} es: {suma_digitos(n)}\")"
      ],
      "metadata": {
        "colab": {
          "base_uri": "https://localhost:8080/"
        },
        "id": "lYEszKqAiH6M",
        "outputId": "9ec2df31-d04f-4bda-f70c-74d8979b9370"
      },
      "execution_count": 12,
      "outputs": [
        {
          "output_type": "stream",
          "name": "stdout",
          "text": [
            "Ingrese un número para calcular la suma de sus dígitos: 78\n",
            "La suma de los dígitos de 78 es: 15\n"
          ]
        }
      ]
    },
    {
      "cell_type": "markdown",
      "source": [
        "Ejercicio 23: Escribe un programa que determine si un número es primo."
      ],
      "metadata": {
        "id": "y1I56dpNiIL0"
      }
    },
    {
      "cell_type": "code",
      "source": [
        "def es_primo(n):\n",
        "    divisores = {i: n % i == 0 for i in range(2, n)}\n",
        "    if all(v == False for v in divisores.values()):\n",
        "        return f\"{n} es un número primo.\"\n",
        "    else:\n",
        "        return f\"{n} no es un número primo.\"\n",
        "n = int(input(\"Ingrese un número para saber si es primo: \"))\n",
        "print(es_primo(n))"
      ],
      "metadata": {
        "colab": {
          "base_uri": "https://localhost:8080/"
        },
        "id": "8_-o42SkiKDc",
        "outputId": "8436aaee-a877-409f-ad2a-cae01f235e0d"
      },
      "execution_count": 13,
      "outputs": [
        {
          "output_type": "stream",
          "name": "stdout",
          "text": [
            "Ingrese un número para saber si es primo: 87\n",
            "87 no es un número primo.\n"
          ]
        }
      ]
    },
    {
      "cell_type": "markdown",
      "source": [
        "Ejercicio 24: Desarrolla un programa que muestre el patrón de un triángulo con asteriscos."
      ],
      "metadata": {
        "id": "qz8OVMsTiKxk"
      }
    },
    {
      "cell_type": "code",
      "source": [
        "def patron_triangulo(filas):\n",
        "    patron = {}\n",
        "    for i in range(1, filas + 1):\n",
        "        patron[i] = '*' * i\n",
        "    for fila in patron.values():\n",
        "        print(fila)\n",
        "filas = int(input(\"Ingrese el número de filas para el triángulo: \"))\n",
        "patron_triangulo(filas)"
      ],
      "metadata": {
        "colab": {
          "base_uri": "https://localhost:8080/"
        },
        "id": "wY_2eRybiMxT",
        "outputId": "e76b878e-b95d-46a5-ef8f-b8ea87a2aad6"
      },
      "execution_count": 26,
      "outputs": [
        {
          "output_type": "stream",
          "name": "stdout",
          "text": [
            "Ingrese el número de filas para el triángulo: 15\n",
            "*\n",
            "**\n",
            "***\n",
            "****\n",
            "*****\n",
            "******\n",
            "*******\n",
            "********\n",
            "*********\n",
            "**********\n",
            "***********\n",
            "************\n",
            "*************\n",
            "**************\n",
            "***************\n"
          ]
        }
      ]
    },
    {
      "cell_type": "markdown",
      "source": [
        "Ejercicio 25: Crea un programa que calcule la potencia de un número sin usar el operador"
      ],
      "metadata": {
        "id": "ae0Uq19QiNSW"
      }
    },
    {
      "cell_type": "code",
      "source": [
        "def potencia(base, exponente):\n",
        "    resultados = {0: 1}\n",
        "    for i in range(1, exponente + 1):\n",
        "        resultados[i] = resultados[i - 1] * base\n",
        "    return resultados[exponente]\n",
        "base = int(input(\"Ingrese la base: \"))\n",
        "exponente = int(input(\"Ingrese el exponente: \"))\n",
        "print(f\"{base} elevado a {exponente} es: {potencia(base, exponente)}\")"
      ],
      "metadata": {
        "colab": {
          "base_uri": "https://localhost:8080/"
        },
        "id": "ovnIF6uFiPDb",
        "outputId": "52a0e8c4-257f-486c-88e6-2fc82b799bea"
      },
      "execution_count": 15,
      "outputs": [
        {
          "output_type": "stream",
          "name": "stdout",
          "text": [
            "Ingrese la base: 8\n",
            "Ingrese el exponente: 9\n",
            "8 elevado a 9 es: 134217728\n"
          ]
        }
      ]
    },
    {
      "cell_type": "markdown",
      "source": [
        "**EJERCICIOS DE TELEGRAM **"
      ],
      "metadata": {
        "id": "iFyM1KGhn4HH"
      }
    },
    {
      "cell_type": "markdown",
      "source": [
        "EJERCICIO 1 DE TELEGRM: Todos los numeros divisibles por 6 del 1 al 60"
      ],
      "metadata": {
        "id": "ehYLIHNUlLhB"
      }
    },
    {
      "cell_type": "code",
      "source": [
        "def divisibles_por_seis():\n",
        "    divisibles = {}\n",
        "    for i in range(1, 61):\n",
        "        if i % 6 == 0:\n",
        "            divisibles[i] = i\n",
        "    return divisibles\n",
        "\n",
        "resultado = divisibles_por_seis()\n",
        "print(\"Números divisibles por 6 del 1 al 60:\", list(resultado.values()))"
      ],
      "metadata": {
        "colab": {
          "base_uri": "https://localhost:8080/"
        },
        "id": "YZhjeReClLHK",
        "outputId": "5b79a4e6-303e-4f33-f0ec-b683233b04c6"
      },
      "execution_count": 23,
      "outputs": [
        {
          "output_type": "stream",
          "name": "stdout",
          "text": [
            "Números divisibles por 6 del 1 al 60: [6, 12, 18, 24, 30, 36, 42, 48, 54, 60]\n"
          ]
        }
      ]
    },
    {
      "cell_type": "markdown",
      "source": [
        "EJERCICIO 2 DE TELEGRAM: Todos los nombres que empiecen por \"A\" de una lista de nombres"
      ],
      "metadata": {
        "id": "o1uK_jO5mBGi"
      }
    },
    {
      "cell_type": "code",
      "source": [
        "def nombres_con_a(nombres):\n",
        "    nombres_a = {}\n",
        "    for nombre in nombres:\n",
        "        if nombre.startswith(\"A\"):\n",
        "            nombres_a[nombre] = nombre\n",
        "    return nombres_a\n",
        "nombres = [\"Ana\", \"Alberto\", \"Beatriz\", \"Alejandro\", \"Alicia\", \"Carlos\"]\n",
        "resultado = nombres_con_a(nombres)\n",
        "print(\"Nombres que empiezan por 'A':\", list(resultado.values()))"
      ],
      "metadata": {
        "colab": {
          "base_uri": "https://localhost:8080/"
        },
        "id": "53aojU0pmFFJ",
        "outputId": "5e7f8611-a2b2-42ea-bf49-75767a911a83"
      },
      "execution_count": 27,
      "outputs": [
        {
          "output_type": "stream",
          "name": "stdout",
          "text": [
            "Nombres que empiezan por 'A': ['Ana', 'Alberto', 'Alejandro', 'Alicia']\n"
          ]
        }
      ]
    },
    {
      "cell_type": "markdown",
      "source": [
        "EJERCICIO 3 DE TELEGRAM: Todos los numeros primos entre 0 y 70"
      ],
      "metadata": {
        "id": "tBR64R1pm_3f"
      }
    },
    {
      "cell_type": "code",
      "source": [
        "def primos_hasta_70():\n",
        "    primos = {}\n",
        "    for num in range(2, 71):\n",
        "        es_primo = True\n",
        "        for i in range(2, int(num**0.5) + 1):\n",
        "            if num % i == 0:\n",
        "                es_primo = False\n",
        "                break\n",
        "        if es_primo:\n",
        "            primos[num] = num\n",
        "    return primos\n",
        "resultado = primos_hasta_70()\n",
        "print(\"Números primos entre 0 y 70:\", list(resultado.values()))"
      ],
      "metadata": {
        "colab": {
          "base_uri": "https://localhost:8080/"
        },
        "id": "lfCLFevKnGsH",
        "outputId": "10d03c0d-2d36-4883-bdab-029324155623"
      },
      "execution_count": 25,
      "outputs": [
        {
          "output_type": "stream",
          "name": "stdout",
          "text": [
            "Números primos entre 0 y 70: [2, 3, 5, 7, 11, 13, 17, 19, 23, 29, 31, 37, 41, 43, 47, 53, 59, 61, 67]\n"
          ]
        }
      ]
    }
  ]
}