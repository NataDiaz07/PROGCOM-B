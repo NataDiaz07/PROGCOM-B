{
  "nbformat": 4,
  "nbformat_minor": 0,
  "metadata": {
    "colab": {
      "provenance": []
    },
    "kernelspec": {
      "name": "python3",
      "display_name": "Python 3"
    },
    "language_info": {
      "name": "python"
    }
  },
  "cells": [
    {
      "cell_type": "markdown",
      "source": [
        "***Natalia Palomino Diaz U0018217***\n",
        "\n"
      ],
      "metadata": {
        "id": "AVEzTDyqEisf"
      }
    },
    {
      "cell_type": "markdown",
      "source": [
        "Ejercicio 6: Desarrolla un programa que determine si un número es par o impar"
      ],
      "metadata": {
        "id": "hXEQyvO2C5af"
      }
    },
    {
      "cell_type": "code",
      "source": [
        "# 1. Usando if\n",
        "num = int(input(\"Ingresa un número: \"))\n",
        "if num % 2 == 0:\n",
        "    print(\"El número es par\")\n",
        "if num % 2 != 0:\n",
        "    print(\"El número es impar\")"
      ],
      "metadata": {
        "colab": {
          "base_uri": "https://localhost:8080/"
        },
        "id": "S-b26JvbC6bh",
        "outputId": "8fea269a-9e22-4362-a393-409f1c326f4f"
      },
      "execution_count": null,
      "outputs": [
        {
          "output_type": "stream",
          "name": "stdout",
          "text": [
            "Ingresa un número: 45\n",
            "El número es impar\n"
          ]
        }
      ]
    },
    {
      "cell_type": "code",
      "source": [
        "# 2. Usando elif\n",
        "num = int(input(\"Ingresa un número: \"))\n",
        "if num % 2 == 0:\n",
        "    print(\"El número es par\")\n",
        "elif num % 2 != 0:\n",
        "    print(\"El número es impar\")\n"
      ],
      "metadata": {
        "colab": {
          "base_uri": "https://localhost:8080/"
        },
        "id": "d5bu8yGkEr63",
        "outputId": "9b06d219-925a-4f72-9d85-964a28e1a57b"
      },
      "execution_count": null,
      "outputs": [
        {
          "output_type": "stream",
          "name": "stdout",
          "text": [
            "Ingresa un número: 78\n",
            "El número es par\n"
          ]
        }
      ]
    },
    {
      "cell_type": "code",
      "source": [
        "# 3. Usando match\n",
        "num = int(input(\"Ingresa un número: \"))\n",
        "match num % 2:\n",
        "    case 0:\n",
        "        print(\"El número es par\")\n",
        "    case 1:\n",
        "        print(\"El número es impar\")"
      ],
      "metadata": {
        "colab": {
          "base_uri": "https://localhost:8080/"
        },
        "id": "QUHRwBMKFEhM",
        "outputId": "03fc0789-0a95-4d85-ce67-c12198fa4478"
      },
      "execution_count": null,
      "outputs": [
        {
          "output_type": "stream",
          "name": "stdout",
          "text": [
            "Ingresa un número: 1590\n",
            "El número es par\n"
          ]
        }
      ]
    },
    {
      "cell_type": "code",
      "source": [
        "# 4. Usando operador ternario\n",
        "numero = int(input(\"Ingresa un número: \"))\n",
        "print(\"El número es par\" if numero % 2 == 0 else \"El número es impar\")"
      ],
      "metadata": {
        "colab": {
          "base_uri": "https://localhost:8080/"
        },
        "id": "UtAVFqWNFTOD",
        "outputId": "2399001e-2098-42c3-8161-507fde7b8295"
      },
      "execution_count": null,
      "outputs": [
        {
          "output_type": "stream",
          "name": "stdout",
          "text": [
            "Ingresa un número: 57844\n",
            "El número es par\n"
          ]
        }
      ]
    },
    {
      "cell_type": "markdown",
      "source": [
        "Ejercicio 7: Crea un programa que determine si un año es bisiesto (divisible por 4 y no por 100, o divisible por 400)."
      ],
      "metadata": {
        "id": "KM1symF4FeF_"
      }
    },
    {
      "cell_type": "code",
      "source": [
        "# 1. Usando if\n",
        "año = int(input(\"Ingresa un año: \"))\n",
        "if año % 400 == 0:\n",
        "    print(\"El año es bisiesto\")\n",
        "if año % 100 != 0 and año % 4 == 0:\n",
        "    print(\"El año es bisiesto\")\n",
        "if año % 4 != 0 or (año % 100 == 0 and año % 400 != 0):\n",
        "    print(\"El año no es bisiesto\")"
      ],
      "metadata": {
        "colab": {
          "base_uri": "https://localhost:8080/"
        },
        "id": "yiHSZikpHLgP",
        "outputId": "ba9eb7c9-6828-482b-e35e-73db409d0168"
      },
      "execution_count": null,
      "outputs": [
        {
          "output_type": "stream",
          "name": "stdout",
          "text": [
            "Ingresa un año: 2035\n",
            "El año no es bisiesto\n"
          ]
        }
      ]
    },
    {
      "cell_type": "code",
      "source": [
        "# 2. Usando elif\n",
        "año = int(input(\"Ingresa un año: \"))\n",
        "if año % 400 == 0:\n",
        "    print(\"El año es bisiesto\")\n",
        "elif año % 100 == 0:\n",
        "    print(\"El año no es bisiesto\")\n",
        "elif año % 4 == 0:\n",
        "    print(\"El año es bisiesto\")\n",
        "elif año % 4 != 0:\n",
        "    print(\"El año no es bisiesto\")"
      ],
      "metadata": {
        "colab": {
          "base_uri": "https://localhost:8080/"
        },
        "id": "z7YlMz9bHp7l",
        "outputId": "5d3490bf-90ab-4aa8-c24e-1cae4e60c4a3"
      },
      "execution_count": null,
      "outputs": [
        {
          "output_type": "stream",
          "name": "stdout",
          "text": [
            "Ingresa un año: 5060\n",
            "El año es bisiesto\n"
          ]
        }
      ]
    },
    {
      "cell_type": "code",
      "source": [
        "# 3. Usando match\n",
        "año = int(input(\"Ingresa un año: \"))\n",
        "match (año % 400 == 0, año % 100 == 0, año % 4 == 0):\n",
        "    case (True, _, _):\n",
        "        print(\"El año es bisiesto\")\n",
        "    case (_, True, _):\n",
        "        print(\"El año no es bisiesto\")\n",
        "    case (_, _, True):\n",
        "        print(\"El año es bisiesto\")\n",
        "    case _:\n",
        "        print(\"El año no es bisiesto\")"
      ],
      "metadata": {
        "colab": {
          "base_uri": "https://localhost:8080/"
        },
        "id": "qB0nAkrvH2Xx",
        "outputId": "706dbb40-5712-4ce2-d17d-0a50037545e6"
      },
      "execution_count": null,
      "outputs": [
        {
          "output_type": "stream",
          "name": "stdout",
          "text": [
            "Ingresa un año: 3054\n",
            "El año no es bisiesto\n"
          ]
        }
      ]
    },
    {
      "cell_type": "code",
      "source": [
        "# 4. Usando operador ternario\n",
        "año = int(input(\"Ingresa un año: \"))\n",
        "print(\"El año es bisiesto\" if (año % 400 == 0 or (año % 4 == 0 and año % 100 != 0)) else \"El año no es bisiesto\")"
      ],
      "metadata": {
        "colab": {
          "base_uri": "https://localhost:8080/"
        },
        "id": "BnD4dSU6IBYj",
        "outputId": "13e6cd08-d869-45fa-e48e-a9135ddcd657"
      },
      "execution_count": null,
      "outputs": [
        {
          "output_type": "stream",
          "name": "stdout",
          "text": [
            "Ingresa un año: 2025\n",
            "El año no es bisiesto\n"
          ]
        }
      ]
    },
    {
      "cell_type": "markdown",
      "source": [
        "Ejercicio 8: Escribe un programa que solicite el nombre del usuario y determine si una persona pertenece a la tercera edad (70 años o más) y si se cumple la condición, imprima que se le da prioridad en la fila"
      ],
      "metadata": {
        "id": "drZ5nJixIaU6"
      }
    },
    {
      "cell_type": "code",
      "source": [
        "# 1. Usando if\n",
        "nom = input(\"Ingresa tu nombre: \")\n",
        "edad = int(input(\"Ingresa tu edad: \"))\n",
        "if edad >= 70:\n",
        "    print(\"Tienes prioridad en la fila\")\n",
        "if edad < 70:\n",
        "    print(\"No tienes prioridad en la fila\")"
      ],
      "metadata": {
        "colab": {
          "base_uri": "https://localhost:8080/"
        },
        "id": "Kp4Hb9fDIivv",
        "outputId": "6f2a12cf-e7e7-4999-b49f-a3a675f35462"
      },
      "execution_count": null,
      "outputs": [
        {
          "output_type": "stream",
          "name": "stdout",
          "text": [
            "Ingresa tu nombre: Natalia \n",
            "Ingresa tu edad: 48\n",
            "No tienes prioridad en la fila\n"
          ]
        }
      ]
    },
    {
      "cell_type": "code",
      "source": [
        "# 2. Usando elif\n",
        "nom = input(\"Ingresa tu nombre: \")\n",
        "edad = int(input(\"Ingresa tu edad: \"))\n",
        "if edad >= 70:\n",
        "    print(\"Tienes prioridad en la fila\")\n",
        "elif edad < 70:\n",
        "    print(\"No tienes prioridad en la fila\")"
      ],
      "metadata": {
        "colab": {
          "base_uri": "https://localhost:8080/"
        },
        "id": "vaDi9a_5I-Gz",
        "outputId": "c4009858-81c7-4970-8db0-adf69f14f941"
      },
      "execution_count": null,
      "outputs": [
        {
          "output_type": "stream",
          "name": "stdout",
          "text": [
            "Ingresa tu nombre: Natalia \n",
            "Ingresa tu edad: 78\n",
            "Tienes prioridad en la fila\n"
          ]
        }
      ]
    },
    {
      "cell_type": "code",
      "source": [
        "# 3. Usando match\n",
        "nom = input(\"Ingresa tu nombre: \")\n",
        "edad = int(input(\"Ingresa tu edad: \"))\n",
        "match edad >= 70:\n",
        "    case True:\n",
        "        print(\"Tienes prioridad en la fila\")\n",
        "    case False:\n",
        "        print(\"No tienes prioridad en la fila\")\n"
      ],
      "metadata": {
        "colab": {
          "base_uri": "https://localhost:8080/"
        },
        "id": "F5RDmDM0JG6G",
        "outputId": "7fbc54f2-cf28-42ad-d6f4-b4986e0cc8df"
      },
      "execution_count": null,
      "outputs": [
        {
          "output_type": "stream",
          "name": "stdout",
          "text": [
            "Ingresa tu nombre: Natalia \n",
            "Ingresa tu edad: 56\n",
            "No tienes prioridad en la fila\n"
          ]
        }
      ]
    },
    {
      "cell_type": "code",
      "source": [
        "# 4. Usando operador ternario\n",
        "nom = input(\"Ingresa tu nombre: \")\n",
        "edad = int(input(\"Ingresa tu edad: \"))\n",
        "print(\"Tienes prioridad en la fila\" if edad >= 70 else \"No tienes prioridad en la fila\")"
      ],
      "metadata": {
        "colab": {
          "base_uri": "https://localhost:8080/"
        },
        "id": "02Q9DfgZJVxx",
        "outputId": "59551523-ee24-4a21-fde1-b69770462621"
      },
      "execution_count": null,
      "outputs": [
        {
          "output_type": "stream",
          "name": "stdout",
          "text": [
            "Ingresa tu nombre: Natalia \n",
            "Ingresa tu edad: 85\n",
            "Tienes prioridad en la fila\n"
          ]
        }
      ]
    },
    {
      "cell_type": "markdown",
      "source": [
        "Ejercicio 9: Desarrolla un programa que compare tres números y muestre el mayor."
      ],
      "metadata": {
        "id": "yPpKS5oFJsKj"
      }
    },
    {
      "cell_type": "code",
      "source": [
        "# 1. Usando if\n",
        "num1 = int(input(\"Ingresa el primer número: \"))\n",
        "num2 = int(input(\"Ingresa el segundo número: \"))\n",
        "num3 = int(input(\"Ingresa el tercer número: \"))\n",
        "if num1 >= num2 and num1 >= num3:\n",
        "    print(\"El mayor es\", num1)\n",
        "if num2 >= num1 and num2 >= num3:\n",
        "    print(\"El mayor es\", num2)\n",
        "if num3 >= num1 and num3 >= num2:\n",
        "    print(\"El mayor es\", num3)"
      ],
      "metadata": {
        "colab": {
          "base_uri": "https://localhost:8080/"
        },
        "id": "5VmGZFonJ2sd",
        "outputId": "eef08522-0bb3-4aee-ce61-b9117e5eb7dc"
      },
      "execution_count": null,
      "outputs": [
        {
          "output_type": "stream",
          "name": "stdout",
          "text": [
            "Ingresa el primer número: 78\n",
            "Ingresa el segundo número: 45\n",
            "Ingresa el tercer número: 95\n",
            "El mayor es 95\n"
          ]
        }
      ]
    },
    {
      "cell_type": "code",
      "source": [
        "# 2. Usando elif\n",
        "num1 = int(input(\"Ingresa el primer número: \"))\n",
        "num2 = int(input(\"Ingresa el segundo número: \"))\n",
        "num3 = int(input(\"Ingresa el tercer número: \"))\n",
        "if num1 >= num2 and num1 >= num3:\n",
        "    print(\"El mayor es\", num1)\n",
        "elif num2 >= num1 and num2 >= num3:\n",
        "    print(\"El mayor es\", num2)\n",
        "elif num3 >= num1 and num3 >= num2:\n",
        "    print(\"El mayor es\", num3)"
      ],
      "metadata": {
        "colab": {
          "base_uri": "https://localhost:8080/"
        },
        "id": "o_QrkiVzKDOb",
        "outputId": "6ad224af-04b3-4ed8-f1a7-ec62aa0a3869"
      },
      "execution_count": null,
      "outputs": [
        {
          "output_type": "stream",
          "name": "stdout",
          "text": [
            "Ingresa el primer número: 234\n",
            "Ingresa el segundo número: 859\n",
            "Ingresa el tercer número: 4258\n",
            "El mayor es 4258\n"
          ]
        }
      ]
    },
    {
      "cell_type": "code",
      "source": [
        "# 3. Usando match\n",
        "num1 = int(input(\"Ingresa el primer número: \"))\n",
        "num2 = int(input(\"Ingresa el segundo número: \"))\n",
        "num3 = int(input(\"Ingresa el tercer número: \"))\n",
        "match (num1 >= num2 and num1 >= num3, num2 >= num1 and num2 >= num3):\n",
        "    case (True, _):\n",
        "        print(\"El mayor es\", num1)\n",
        "    case (_, True):\n",
        "        print(\"El mayor es\", num2)\n",
        "    case _:\n",
        "        print(\"El mayor es\", num3)"
      ],
      "metadata": {
        "colab": {
          "base_uri": "https://localhost:8080/"
        },
        "id": "rs__vwidKLzc",
        "outputId": "f1da647a-7b0a-445e-b7bb-ad952b8d5198"
      },
      "execution_count": null,
      "outputs": [
        {
          "output_type": "stream",
          "name": "stdout",
          "text": [
            "Ingresa el primer número: 234\n",
            "Ingresa el segundo número: 478\n",
            "Ingresa el tercer número: 983\n",
            "El mayor es 983\n"
          ]
        }
      ]
    },
    {
      "cell_type": "code",
      "source": [
        "# 4. Usando operador ternario\n",
        "num1 = int(input(\"Ingresa el primer número: \"))\n",
        "num2 = int(input(\"Ingresa el segundo número: \"))\n",
        "num3 = int(input(\"Ingresa el tercer número: \"))\n",
        "print(\"El mayor es\", num1 if num1 >= num2 and num1 >= num3 else num2 if num2 >= num1 and num2 >= num3 else num3)"
      ],
      "metadata": {
        "colab": {
          "base_uri": "https://localhost:8080/"
        },
        "id": "veQsxymyKUDL",
        "outputId": "71ea576f-9ccc-4c9d-f3e3-5bfe93c585f7"
      },
      "execution_count": null,
      "outputs": [
        {
          "output_type": "stream",
          "name": "stdout",
          "text": [
            "Ingresa el primer número: 789\n",
            "Ingresa el segundo número: 784\n",
            "Ingresa el tercer número: 786\n",
            "El mayor es 789\n"
          ]
        }
      ]
    },
    {
      "cell_type": "markdown",
      "source": [
        "Ejemplo 10: Crea un programa que determine si un triángulo es equilátero, isósceles o escaleno según sus lados."
      ],
      "metadata": {
        "id": "-5Yh1pgoKy17"
      }
    },
    {
      "cell_type": "code",
      "source": [
        "# 1. Usando if\n",
        "lad1 = int(input(\"Ingresa el primer lado: \"))\n",
        "lad2 = int(input(\"Ingresa el segundo lado: \"))\n",
        "lad3 = int(input(\"Ingresa el tercer lado: \"))\n",
        "if lad1 == lad2 and lad2 == lad3:\n",
        "    print(\"Equilátero\")\n",
        "if lad1 == lad2 or lad1 == lad3 or lad2 == lad3:\n",
        "    print(\"Isósceles\")\n",
        "if lad1 != lad2 and lad1 != lad3 and lad2 != lad3:\n",
        "    print(\"Escaleno\")"
      ],
      "metadata": {
        "colab": {
          "base_uri": "https://localhost:8080/"
        },
        "id": "MQkqhzj-LYKR",
        "outputId": "f913face-26ec-4b5f-d8a4-c93dfe46e86c"
      },
      "execution_count": null,
      "outputs": [
        {
          "output_type": "stream",
          "name": "stdout",
          "text": [
            "Ingresa el primer lado: 7\n",
            "Ingresa el segundo lado: 8\n",
            "Ingresa el tercer lado: 4\n",
            "Escaleno\n"
          ]
        }
      ]
    },
    {
      "cell_type": "code",
      "source": [
        "# 2. Usando solo elif\n",
        "lad1 = int(input(\"Ingresa el primer lado: \"))\n",
        "lad2 = int(input(\"Ingresa el segundo lado: \"))\n",
        "lad3 = int(input(\"Ingresa el tercer lado: \"))\n",
        "if lad1 == lad2 and lad2 == lad3:\n",
        "    print(\"Equilátero\")\n",
        "elif lad1 == lad2 or lad1 == lad3 or lad2 == lad3:\n",
        "    print(\"Isósceles\")\n",
        "elif lad81 != lad2 and lad1 != lad3 and lad2 != lad3:\n",
        "    print(\"Escaleno\")"
      ],
      "metadata": {
        "colab": {
          "base_uri": "https://localhost:8080/"
        },
        "id": "byZ1FRv6LkMp",
        "outputId": "67cc9c2d-eeea-46d1-d63e-bbd8f94b8a6a"
      },
      "execution_count": null,
      "outputs": [
        {
          "output_type": "stream",
          "name": "stdout",
          "text": [
            "Ingresa el primer lado: 8\n",
            "Ingresa el segundo lado: 8\n",
            "Ingresa el tercer lado: 8\n",
            "Equilátero\n"
          ]
        }
      ]
    },
    {
      "cell_type": "code",
      "source": [
        "# 3. Usando match\n",
        "lad1 = int(input(\"Ingresa el primer lado: \"))\n",
        "lad2 = int(input(\"Ingresa el segundo lado: \"))\n",
        "lad3 = int(input(\"Ingresa el tercer lado: \"))\n",
        "match (lad1 == lad2, lad2 == lad3, lad1 == lad3):\n",
        "    case (True, True, True):\n",
        "        print(\"Equilátero\")\n",
        "    case (True, False, _) | (_, False, True) | (False, True, _):\n",
        "        print(\"Isósceles\")\n",
        "    case _:\n",
        "        print(\"Escaleno\")"
      ],
      "metadata": {
        "colab": {
          "base_uri": "https://localhost:8080/"
        },
        "id": "cAMnRvo2LruH",
        "outputId": "bff166e3-aaa1-4c0c-dff5-decac81a4cb4"
      },
      "execution_count": null,
      "outputs": [
        {
          "output_type": "stream",
          "name": "stdout",
          "text": [
            "Ingresa el primer lado: 8\n",
            "Ingresa el segundo lado: 5\n",
            "Ingresa el tercer lado: 8\n",
            "Isósceles\n"
          ]
        }
      ]
    },
    {
      "cell_type": "code",
      "source": [
        "# 4. Usando operador ternario\n",
        "lad1 = int(input(\"Ingresa el primer lado: \"))\n",
        "lad2 = int(input(\"Ingresa el segundo lado: \"))\n",
        "lad3 = int(input(\"Ingresa el tercer lado: \"))\n",
        "print(\"Equilátero\" if lad1 == lad2 == lad3 else \"Isósceles\" if lad1 == lad2 or lad1 == lad3 or lad2 == lad3 else \"Escaleno\")"
      ],
      "metadata": {
        "colab": {
          "base_uri": "https://localhost:8080/"
        },
        "id": "tGd0q8H_MCdK",
        "outputId": "98ef773b-c89e-42f1-8d94-529610bf9b1f"
      },
      "execution_count": null,
      "outputs": [
        {
          "output_type": "stream",
          "name": "stdout",
          "text": [
            "Ingresa el primer lado: 7\n",
            "Ingresa el segundo lado: 8\n",
            "Ingresa el tercer lado: 9\n",
            "Escaleno\n"
          ]
        }
      ]
    }
  ]
}